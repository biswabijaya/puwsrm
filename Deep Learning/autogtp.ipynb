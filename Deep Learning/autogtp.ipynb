{
  "nbformat": 4,
  "nbformat_minor": 0,
  "metadata": {
    "colab": {
      "name": "autogtp.ipynb",
      "version": "0.3.2",
      "provenance": [],
      "include_colab_link": true
    },
    "kernelspec": {
      "name": "python3",
      "display_name": "Python 3"
    },
    "accelerator": "GPU"
  },
  "cells": [
    {
      "cell_type": "markdown",
      "metadata": {
        "id": "view-in-github",
        "colab_type": "text"
      },
      "source": [
        "<a href=\"https://colab.research.google.com/github/biswabijaya/puwsrm/blob/master/Deep%20Learning/autogtp.ipynb\" target=\"_parent\"><img src=\"https://colab.research.google.com/assets/colab-badge.svg\" alt=\"Open In Colab\"/></a>"
      ]
    },
    {
      "cell_type": "code",
      "metadata": {
        "id": "-T9ReNFuD8eT",
        "colab_type": "code",
        "colab": {}
      },
      "source": [
        "# Confirm it is GPU/K80\n",
        "import tensorflow as tf\n",
        "tf.test.gpu_device_name()\n",
        "from tensorflow.python.client import device_lib\n",
        "device_lib.list_local_devices()"
      ],
      "execution_count": 0,
      "outputs": []
    },
    {
      "cell_type": "code",
      "metadata": {
        "id": "xr2KLQsrJJgJ",
        "colab_type": "code",
        "colab": {}
      },
      "source": [
        "# Don't have to run if you already have compiled version\n",
        "!rm -rf leela-zero\n",
        "!git clone https://github.com/gcp/leela-zero.git"
      ],
      "execution_count": 0,
      "outputs": []
    },
    {
      "cell_type": "code",
      "metadata": {
        "id": "h37h1WoUIkn6",
        "colab_type": "code",
        "colab": {}
      },
      "source": [
        "!wget https://github.com/ashokpant/cudnn_archive/raw/master/v7.0/libcudnn7_7.0.5.15-1+cuda9.0_amd64.deb\n",
        "!dpkg -i libcudnn7_7.0.5.15-1+cuda9.0_amd64.deb.1\n",
        "!apt-get update\n",
        "!apt-get upgrade -y"
      ],
      "execution_count": 0,
      "outputs": []
    },
    {
      "cell_type": "code",
      "metadata": {
        "id": "K6SI1498Iq3u",
        "colab_type": "code",
        "colab": {}
      },
      "source": [
        "!pip3 install torch torchvision"
      ],
      "execution_count": 0,
      "outputs": []
    },
    {
      "cell_type": "code",
      "metadata": {
        "id": "CMeQtcaqtfv-",
        "colab_type": "code",
        "outputId": "c2658894-200b-41e2-ea4b-45152e279838",
        "colab": {
          "base_uri": "https://localhost:8080/",
          "height": 712
        }
      },
      "source": [
        "!git clone https://github.com/liujn2018/run_lz_in_gg\n",
        "!cd run_lz_in_gg && chmod a+x *\n",
        "!python run_lz_in_gg/paopu.py"
      ],
      "execution_count": 0,
      "outputs": [
        {
          "output_type": "stream",
          "text": [
            "Cloning into 'run_lz_in_gg'...\n",
            "remote: Enumerating objects: 3, done.\u001b[K\n",
            "remote: Counting objects: 100% (3/3), done.\u001b[K\n",
            "remote: Compressing objects: 100% (3/3), done.\u001b[K\n",
            "remote: Total 55 (delta 0), reused 0 (delta 0), pack-reused 52\u001b[K\n",
            "Unpacking objects: 100% (55/55), done.\n",
            "\n",
            "WARNING: apt does not have a stable CLI interface. Use with caution in scripts.\n",
            "\n",
            "\n",
            "WARNING: apt does not have a stable CLI interface. Use with caution in scripts.\n",
            "\n",
            "Extracting templates from packages: 100%\n",
            "\n",
            "WARNING: apt does not have a stable CLI interface. Use with caution in scripts.\n",
            "\n",
            "\n",
            "WARNING: apt does not have a stable CLI interface. Use with caution in scripts.\n",
            "\n",
            "\n",
            "Redirecting output to ‘wget-log’.\n",
            "\n",
            "WARNING: apt does not have a stable CLI interface. Use with caution in scripts.\n",
            "\n",
            "\n",
            "WARNING: apt does not have a stable CLI interface. Use with caution in scripts.\n",
            "\n",
            "\n",
            "WARNING: apt does not have a stable CLI interface. Use with caution in scripts.\n",
            "\n",
            "AutoGTP v16\n",
            "Using 1 thread(s) for GPU(s).\n",
            "1 game(s) (1 self played and 0 matches) played in 201 minutes = 12099 seconds/game, 26359 ms/move, last game took 12094 seconds.\n",
            "2 game(s) (2 self played and 0 matches) played in 224 minutes = 6746 seconds/game, 22488 ms/move, last game took 1389 seconds.\n",
            "3 game(s) (3 self played and 0 matches) played in 268 minutes = 5366 seconds/game, 20022 ms/move, last game took 2600 seconds.\n",
            "4 game(s) (4 self played and 0 matches) played in 295 minutes = 4432 seconds/game, 18563 ms/move, last game took 1624 seconds.\n",
            "5 game(s) (5 self played and 0 matches) played in 330 minutes = 3966 seconds/game, 17473 ms/move, last game took 2099 seconds.\n",
            "6 game(s) (6 self played and 0 matches) played in 369 minutes = 3698 seconds/game, 16266 ms/move, last game took 2351 seconds.\n"
          ],
          "name": "stdout"
        }
      ]
    },
    {
      "cell_type": "code",
      "metadata": {
        "id": "xtA2CniP7UbR",
        "colab_type": "code",
        "colab": {}
      },
      "source": [
        "!git clone https://github.com/ttl/leela-zero cudnn\n",
        "!cd cudnn/src && git checkout cudnn2 && make -j2"
      ],
      "execution_count": 0,
      "outputs": []
    },
    {
      "cell_type": "code",
      "metadata": {
        "id": "3sGHdvdpJhAc",
        "colab_type": "code",
        "colab": {}
      },
      "source": [
        "!git clone https://github.com/gcp/leela-zero next\n",
        "!cd next/src && git checkout next && make -j2 && cp leelaz ~/next"
      ],
      "execution_count": 0,
      "outputs": []
    },
    {
      "cell_type": "code",
      "metadata": {
        "id": "17MMq8oO79D2",
        "colab_type": "code",
        "colab": {}
      },
      "source": [
        "!cp batch/src/leelaz leelaz\n",
        "!wget http://zero.sjeng.org/networks/b1c37640fbd1a80249693b236f551d1886f7479e1b57051f2d5e098d2abffd02.gz -O w172.gz"
      ],
      "execution_count": 0,
      "outputs": []
    },
    {
      "cell_type": "code",
      "metadata": {
        "id": "iVvJ9Szh8QQ_",
        "colab_type": "code",
        "colab": {}
      },
      "source": [
        "!./leelaz --benchmark --batchsize 4 -t 8 -w w172.gz --precision half\n",
        "!cat leelaz_opencl*"
      ],
      "execution_count": 0,
      "outputs": []
    },
    {
      "cell_type": "code",
      "metadata": {
        "id": "UBN25zbmJ4tG",
        "colab_type": "code",
        "colab": {}
      },
      "source": [
        "!cat leelaz_opencl*\n",
        "!./lz_next --benchmark -t 2 -w w172.gz --precision half"
      ],
      "execution_count": 0,
      "outputs": []
    }
  ]
}