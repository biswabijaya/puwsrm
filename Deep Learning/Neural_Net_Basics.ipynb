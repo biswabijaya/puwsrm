{
  "nbformat": 4,
  "nbformat_minor": 0,
  "metadata": {
    "colab": {
      "name": "Neural Net Basics.ipynb",
      "version": "0.3.2",
      "provenance": [],
      "collapsed_sections": [],
      "include_colab_link": true
    },
    "language_info": {
      "codemirror_mode": {
        "name": "ipython",
        "version": 3
      },
      "file_extension": ".py",
      "mimetype": "text/x-python",
      "name": "python",
      "nbconvert_exporter": "python",
      "pygments_lexer": "ipython3",
      "version": "3.6.7"
    },
    "kernelspec": {
      "name": "python3",
      "display_name": "Python 3"
    },
    "accelerator": "GPU"
  },
  "cells": [
    {
      "cell_type": "markdown",
      "metadata": {
        "id": "view-in-github",
        "colab_type": "text"
      },
      "source": [
        "<a href=\"https://colab.research.google.com/github/biswabijaya/puwsrm/blob/master/Deep%20Learning/Neural_Net_Basics.ipynb\" target=\"_parent\"><img src=\"https://colab.research.google.com/assets/colab-badge.svg\" alt=\"Open In Colab\"/></a>"
      ]
    },
    {
      "cell_type": "markdown",
      "metadata": {
        "id": "0vIVzAl0lAiv",
        "colab_type": "text"
      },
      "source": [
        "# Demonstrating Basic Neural Network Structures and Practices in Google Colab\n",
        "Hello, everyone, my name is [Yaw-Ling Lin](https://www.cs.pu.edu.tw/~yawlin/vita.html). \n",
        "This page is a colab practices set up for a quick look for beginners of machine learning practices and principles. I hope that you will enjoy the mental trips. Here are two ppt files that you might feel interested: [1906-yll-CNN](https://drive.google.com/file/d/12eZxhNyJeyIZ4fys-MLZsp_2_amdpB_Z/view?usp=sharing) and  [1905-yll-Facenet](https://drive.google.com/open?id=1_M2dDqzVmlFi9QLW2548JgtM8ekxvsrf)\n",
        "This Python NB consists of 3 parts:\n",
        "- Perceptron\n",
        "- MNIST\n",
        "- CNN demo links\n",
        "\n",
        "This my self link: https://bit.ly/2ZxZSea"
      ]
    },
    {
      "cell_type": "markdown",
      "metadata": {
        "id": "1EJcs9wkuaNn",
        "colab_type": "text"
      },
      "source": [
        "## Showing Colab VM OS status\n",
        "\n",
        "---\n",
        "\n",
        "\n",
        "\n",
        "---\n",
        "\n"
      ]
    },
    {
      "cell_type": "code",
      "metadata": {
        "id": "HBEkPNSpuRdz",
        "colab_type": "code",
        "cellView": "both",
        "outputId": "e7d90cc8-ea4a-49ee-cd78-f9a6e5c20dcb",
        "colab": {
          "base_uri": "https://localhost:8080/",
          "height": 663
        }
      },
      "source": [
        "#@ Bash codes for VM environments\n",
        "!cat /etc/*release\n",
        "!ps\n",
        "!pwd\n",
        "!du -l\n",
        "!df"
      ],
      "execution_count": 0,
      "outputs": [
        {
          "output_type": "stream",
          "text": [
            "DISTRIB_ID=Ubuntu\n",
            "DISTRIB_RELEASE=18.04\n",
            "DISTRIB_CODENAME=bionic\n",
            "DISTRIB_DESCRIPTION=\"Ubuntu 18.04.2 LTS\"\n",
            "NAME=\"Ubuntu\"\n",
            "VERSION=\"18.04.2 LTS (Bionic Beaver)\"\n",
            "ID=ubuntu\n",
            "ID_LIKE=debian\n",
            "PRETTY_NAME=\"Ubuntu 18.04.2 LTS\"\n",
            "VERSION_ID=\"18.04\"\n",
            "HOME_URL=\"https://www.ubuntu.com/\"\n",
            "SUPPORT_URL=\"https://help.ubuntu.com/\"\n",
            "BUG_REPORT_URL=\"https://bugs.launchpad.net/ubuntu/\"\n",
            "PRIVACY_POLICY_URL=\"https://www.ubuntu.com/legal/terms-and-policies/privacy-policy\"\n",
            "VERSION_CODENAME=bionic\n",
            "UBUNTU_CODENAME=bionic\n",
            "    PID TTY          TIME CMD\n",
            "      1 ?        00:00:00 run.sh\n",
            "     12 ?        00:00:00 node\n",
            "     27 ?        00:00:01 jupyter-noteboo\n",
            "    122 ?        00:00:00 tail\n",
            "    133 ?        00:00:03 python3\n",
            "    189 ?        00:00:00 ps\n",
            "/content\n",
            "8\t./.config/configurations\n",
            "48\t./.config/logs/2019.05.31\n",
            "52\t./.config/logs\n",
            "80\t./.config\n",
            "55508\t./sample_data\n",
            "55592\t.\n",
            "Filesystem     1K-blocks     Used Available Use% Mounted on\n",
            "overlay        375674948 28847208 327674844   9% /\n",
            "tmpfs            6667632        0   6667632   0% /dev\n",
            "tmpfs            6667632        0   6667632   0% /sys/fs/cgroup\n",
            "tmpfs            6667632       12   6667620   1% /var/colab\n",
            "/dev/sda1      382718764 37944712 344757668  10% /opt/bin\n",
            "shm              6291456        4   6291452   1% /dev/shm\n",
            "tmpfs            6667632        0   6667632   0% /sys/firmware\n"
          ],
          "name": "stdout"
        }
      ]
    },
    {
      "cell_type": "markdown",
      "metadata": {
        "id": "FZ2uzBUXusV_",
        "colab_type": "text"
      },
      "source": [
        "## Confirm it is GPU/K80\n",
        "- The following codes are taken from: https://colab.research.google.com/drive/18IHRqnzEiPIaw69xYbBX5Zcae19PYAky#scrollTo=-T9ReNFuD8eT&forceEdit=true&offline=true&sandboxMode=true"
      ]
    },
    {
      "cell_type": "code",
      "metadata": {
        "id": "iatl5slQFRFq",
        "colab_type": "code",
        "outputId": "9acbb455-5896-44fa-e200-74b5980de003",
        "colab": {
          "base_uri": "https://localhost:8080/",
          "height": 476
        }
      },
      "source": [
        "# Confirm it is GPU/K80\n",
        "import tensorflow as tf\n",
        "tf.test.gpu_device_name()\n",
        "from tensorflow.python.client import device_lib\n",
        "device_lib.list_local_devices()"
      ],
      "execution_count": 0,
      "outputs": [
        {
          "output_type": "execute_result",
          "data": {
            "text/plain": [
              "[name: \"/device:CPU:0\"\n",
              " device_type: \"CPU\"\n",
              " memory_limit: 268435456\n",
              " locality {\n",
              " }\n",
              " incarnation: 12189090941306701913, name: \"/device:XLA_CPU:0\"\n",
              " device_type: \"XLA_CPU\"\n",
              " memory_limit: 17179869184\n",
              " locality {\n",
              " }\n",
              " incarnation: 8858618253013670694\n",
              " physical_device_desc: \"device: XLA_CPU device\", name: \"/device:XLA_GPU:0\"\n",
              " device_type: \"XLA_GPU\"\n",
              " memory_limit: 17179869184\n",
              " locality {\n",
              " }\n",
              " incarnation: 1432079380372175026\n",
              " physical_device_desc: \"device: XLA_GPU device\", name: \"/device:GPU:0\"\n",
              " device_type: \"GPU\"\n",
              " memory_limit: 14892338381\n",
              " locality {\n",
              "   bus_id: 1\n",
              "   links {\n",
              "   }\n",
              " }\n",
              " incarnation: 8837545890130692153\n",
              " physical_device_desc: \"device: 0, name: Tesla T4, pci bus id: 0000:00:04.0, compute capability: 7.5\"]"
            ]
          },
          "metadata": {
            "tags": []
          },
          "execution_count": 5
        }
      ]
    },
    {
      "cell_type": "markdown",
      "metadata": {
        "id": "zlq3QEP0uRdr",
        "colab_type": "text"
      },
      "source": [
        "# CNN Useful links\n",
        "- [ConvNetJS](https://cs.stanford.edu/people/karpathy/convnetjs/) -- ConvNetJS is a Javascript library for training Deep Learning models (Neural Networks) entirely in your browser.  \n",
        "- [CS231n](http://vision.stanford.edu/teaching/cs231n/): Convolutional Neural Networks for Visual Recognition\n",
        "Spring 2019 \n",
        "- VIP cheatsheets for Stanford's CS 229 Machine Learning\n",
        "https://github.com/afshinea/stanford-cs-229-machine-learning\n",
        "- VIP Deep Learning cheatsheets for Stanford's CS 230\n",
        "https://github.com/afshinea/stanford-cs-230-deep-learning and\n",
        "https://github.com/afshinea/stanford-cs-230-deep-learning/blob/master/en/super-cheatsheet-deep-learning.pdf \n",
        "\n"
      ]
    },
    {
      "cell_type": "markdown",
      "metadata": {
        "id": "C2NsrVw8HAUz",
        "colab_type": "text"
      },
      "source": [
        "# Perceptron \n",
        "-  Bargen: Perceptron in Python, March 26, 2013  https://blog.dbrgn.ch/2013/3/26/perceptrons-in-python/\n",
        "- 類別實作程式碼 https://www.zybuluo.com/hanbingtao/note/433855\n",
        "- 感知器向量運算參考:   https://blog.dbrgn.ch/2013/3/26/perceptrons-in-python/"
      ]
    },
    {
      "cell_type": "code",
      "metadata": {
        "id": "l1uiLM665n4C",
        "colab_type": "code",
        "colab": {}
      },
      "source": [
        "from numpy import array, dot, random\n",
        "\n",
        "training_data = [                               # 訓練資料集 \n",
        "    (array([0,0,1]), 0),                        # 權重向量 w 包含 bias\n",
        "    (array([0,1,1]), 0),                        # 訓練感知器做 AND 運算\n",
        "    (array([1,0,1]), 0),\n",
        "    (array([1,1,1]), 1),\n",
        "]\n",
        "\n",
        "total_errors = []                               # 各世代的訓練誤差值\n",
        "\n",
        "unit_step = lambda x: 0 if x < 0 else 1         # 神經元激活函數"
      ],
      "execution_count": 0,
      "outputs": []
    },
    {
      "cell_type": "markdown",
      "metadata": {
        "id": "E1d0gXV_X1ht",
        "colab_type": "text"
      },
      "source": [
        "## class Perceptron"
      ]
    },
    {
      "cell_type": "code",
      "metadata": {
        "id": "KLfqD_WPGCLD",
        "colab_type": "code",
        "colab": {}
      },
      "source": [
        "class Perceptron(object):\n",
        "    def __init__(self, input_num):              # 感知器建構子\n",
        "        self.weights = random.rand(input_num+1) # 啟始權重向量 w\n",
        "    def __str__(self):                          # 列印感知器訓練結果\n",
        "        return '權重向量 weights:%s\\n' % (self.weights)\n",
        "    def predict(self, input_vec):               # 感知器預測\n",
        "        return unit_step(dot(self.weights, input_vec))\n",
        "    def train(self, epochs, eta):               # 感知器訓練\n",
        "        for i in range(epochs):\n",
        "            errors = 0\n",
        "            for (x, expected) in training_data:\n",
        "                result = dot(self.weights, x)        # result = weight x\n",
        "                error = expected - unit_step(result) # 計算訓練誤差值\n",
        "                errors += abs(error)\n",
        "                self.weights += eta * error * x\n",
        "                print('世代: %d 目標:%f 輸出:%f 誤差:%f' % (i, expected, result, error))\n",
        "                print(self)              # 印出感知器訓練後的權重向量  \n",
        "            total_errors.append(errors)  # 記錄此世代的訓練誤差值\n"
      ],
      "execution_count": 0,
      "outputs": []
    },
    {
      "cell_type": "markdown",
      "metadata": {
        "id": "EyDeff0bX7HZ",
        "colab_type": "text"
      },
      "source": [
        "## Train Perceptron"
      ]
    },
    {
      "cell_type": "code",
      "metadata": {
        "id": "Lo8TlkuXIRkj",
        "colab_type": "code",
        "outputId": "c8b522fe-a00a-4442-fb52-4ce99e62f1c3",
        "colab": {
          "base_uri": "https://localhost:8080/",
          "height": 1391
        }
      },
      "source": [
        "p = Perceptron(2)     # 宣告 2 個輸入的 AND-感知器\n",
        "p.train(5, 0.2)       # 以資料集 training_data 訓練 5 個世代, 學習速率 0.2\n",
        "print('訓練誤差值變化', total_errors)   # 印出每個世代的訓練誤差值\n",
        "\n",
        "# 預測四種 AND 輸入狀況進行驗證\n",
        "print ('1 and 1 = %d' % p.predict([1, 1, 1]))\n",
        "print ('0 and 0 = %d' % p.predict([0, 0, 1]))\n",
        "print ('1 and 0 = %d' % p.predict([1, 0, 1]))\n",
        "print ('0 and 1 = %d' % p.predict([0, 1, 1]))\n",
        "\n",
        "# 訓練誤差值變化繪圖\n",
        "from pylab import plot, ylim\n",
        "ylim([-1,4])\n",
        "plot(total_errors)\n"
      ],
      "execution_count": 0,
      "outputs": [
        {
          "output_type": "stream",
          "text": [
            "世代: 0 目標:0.000000 輸出:0.641514 誤差:-1.000000\n",
            "權重向量 weights:[0.2162474  0.58322899 0.44151367]\n",
            "\n",
            "世代: 0 目標:0.000000 輸出:1.024743 誤差:-1.000000\n",
            "權重向量 weights:[0.2162474  0.38322899 0.24151367]\n",
            "\n",
            "世代: 0 目標:0.000000 輸出:0.457761 誤差:-1.000000\n",
            "權重向量 weights:[0.0162474  0.38322899 0.04151367]\n",
            "\n",
            "世代: 0 目標:1.000000 輸出:0.440990 誤差:0.000000\n",
            "權重向量 weights:[0.0162474  0.38322899 0.04151367]\n",
            "\n",
            "世代: 1 目標:0.000000 輸出:0.041514 誤差:-1.000000\n",
            "權重向量 weights:[ 0.0162474   0.38322899 -0.15848633]\n",
            "\n",
            "世代: 1 目標:0.000000 輸出:0.224743 誤差:-1.000000\n",
            "權重向量 weights:[ 0.0162474   0.18322899 -0.35848633]\n",
            "\n",
            "世代: 1 目標:0.000000 輸出:-0.342239 誤差:0.000000\n",
            "權重向量 weights:[ 0.0162474   0.18322899 -0.35848633]\n",
            "\n",
            "世代: 1 目標:1.000000 輸出:-0.159010 誤差:1.000000\n",
            "權重向量 weights:[ 0.2162474   0.38322899 -0.15848633]\n",
            "\n",
            "世代: 2 目標:0.000000 輸出:-0.158486 誤差:0.000000\n",
            "權重向量 weights:[ 0.2162474   0.38322899 -0.15848633]\n",
            "\n",
            "世代: 2 目標:0.000000 輸出:0.224743 誤差:-1.000000\n",
            "權重向量 weights:[ 0.2162474   0.18322899 -0.35848633]\n",
            "\n",
            "世代: 2 目標:0.000000 輸出:-0.142239 誤差:0.000000\n",
            "權重向量 weights:[ 0.2162474   0.18322899 -0.35848633]\n",
            "\n",
            "世代: 2 目標:1.000000 輸出:0.040990 誤差:0.000000\n",
            "權重向量 weights:[ 0.2162474   0.18322899 -0.35848633]\n",
            "\n",
            "世代: 3 目標:0.000000 輸出:-0.358486 誤差:0.000000\n",
            "權重向量 weights:[ 0.2162474   0.18322899 -0.35848633]\n",
            "\n",
            "世代: 3 目標:0.000000 輸出:-0.175257 誤差:0.000000\n",
            "權重向量 weights:[ 0.2162474   0.18322899 -0.35848633]\n",
            "\n",
            "世代: 3 目標:0.000000 輸出:-0.142239 誤差:0.000000\n",
            "權重向量 weights:[ 0.2162474   0.18322899 -0.35848633]\n",
            "\n",
            "世代: 3 目標:1.000000 輸出:0.040990 誤差:0.000000\n",
            "權重向量 weights:[ 0.2162474   0.18322899 -0.35848633]\n",
            "\n",
            "世代: 4 目標:0.000000 輸出:-0.358486 誤差:0.000000\n",
            "權重向量 weights:[ 0.2162474   0.18322899 -0.35848633]\n",
            "\n",
            "世代: 4 目標:0.000000 輸出:-0.175257 誤差:0.000000\n",
            "權重向量 weights:[ 0.2162474   0.18322899 -0.35848633]\n",
            "\n",
            "世代: 4 目標:0.000000 輸出:-0.142239 誤差:0.000000\n",
            "權重向量 weights:[ 0.2162474   0.18322899 -0.35848633]\n",
            "\n",
            "世代: 4 目標:1.000000 輸出:0.040990 誤差:0.000000\n",
            "權重向量 weights:[ 0.2162474   0.18322899 -0.35848633]\n",
            "\n",
            "訓練誤差值變化 [3, 3, 1, 0, 0]\n",
            "1 and 1 = 1\n",
            "0 and 0 = 0\n",
            "1 and 0 = 0\n",
            "0 and 1 = 0\n"
          ],
          "name": "stdout"
        },
        {
          "output_type": "execute_result",
          "data": {
            "text/plain": [
              "[<matplotlib.lines.Line2D at 0x7f73c2413400>]"
            ]
          },
          "metadata": {
            "tags": []
          },
          "execution_count": 8
        },
        {
          "output_type": "display_data",
          "data": {
            "image/png": "[encoded data removed]",
            "text/plain": [
              "<Figure size 432x288 with 1 Axes>"
            ]
          },
          "metadata": {
            "tags": []
          }
        }
      ]
    },
    {
      "cell_type": "markdown",
      "metadata": {
        "id": "1dGgWi-MKaPf",
        "colab_type": "text"
      },
      "source": [
        "# MNIST\n",
        " - http://yann.lecun.com/exdb/mnist/\n",
        " - Trains a simple deep NN on the MNIST dataset. \n",
        " - Gets to 98.40% test accuracy after 20 epochs (there is *a lot* of margin for parameter tuning).\n",
        " - 2 seconds per epoch on a K520 GPU.\n",
        " - NB: this code is taken from [here](https://github.com/keras-team/keras/blob/master/examples/mnist_mlp.py) on Mar-10-2019"
      ]
    },
    {
      "cell_type": "code",
      "metadata": {
        "id": "cRcmkTxZKwEM",
        "colab_type": "code",
        "outputId": "bda71f37-29a8-49b4-99ee-2fb443656e36",
        "colab": {
          "base_uri": "https://localhost:8080/",
          "height": 34
        }
      },
      "source": [
        "'''Trains a simple deep NN on the MNIST dataset.\n",
        "Gets to 98.40% test accuracy after 20 epochs\n",
        "(there is *a lot* of margin for parameter tuning).\n",
        "2 seconds per epoch on a K520 GPU.\n",
        "NB: this code is taken from https://github.com/keras-team/keras/blob/master/examples/mnist_mlp.py on Mar-10-2019\n",
        "'''\n",
        "\n",
        "from __future__ import print_function\n",
        "\n",
        "import keras\n",
        "from keras.datasets import mnist\n",
        "from keras.models import Sequential\n",
        "from keras.layers import Dense, Dropout\n",
        "from keras.optimizers import RMSprop"
      ],
      "execution_count": 0,
      "outputs": [
        {
          "output_type": "stream",
          "text": [
            "Using TensorFlow backend.\n"
          ],
          "name": "stderr"
        }
      ]
    },
    {
      "cell_type": "code",
      "metadata": {
        "id": "ymVS8cB_K0fb",
        "colab_type": "code",
        "outputId": "e2bf9845-5e3e-47c3-c0f2-dbb9bf02c064",
        "colab": {
          "base_uri": "https://localhost:8080/",
          "height": 85
        }
      },
      "source": [
        "batch_size = 128\n",
        "num_classes = 10\n",
        "epochs = 20\n",
        "\n",
        "# the data, split between train and test sets\n",
        "(x_train_img, y_train_lab), (x_test_img, y_test_lab) = mnist.load_data()\n",
        "\n",
        "x_train = x_train_img.reshape(60000, 784)\n",
        "x_test = x_test_img.reshape(10000, 784)\n",
        "x_train = x_train.astype('float32')\n",
        "x_test = x_test.astype('float32')\n",
        "x_train /= 255\n",
        "x_test /= 255\n",
        "print(x_train.shape[0], 'train samples')\n",
        "print(x_test.shape[0], 'test samples')"
      ],
      "execution_count": 0,
      "outputs": [
        {
          "output_type": "stream",
          "text": [
            "Downloading data from https://s3.amazonaws.com/img-datasets/mnist.npz\n",
            "11493376/11490434 [==============================] - 0s 0us/step\n",
            "60000 train samples\n",
            "10000 test samples\n"
          ],
          "name": "stdout"
        }
      ]
    },
    {
      "cell_type": "code",
      "metadata": {
        "id": "90o_VRdwK8Zd",
        "colab_type": "code",
        "outputId": "257ac6bb-91ea-41d7-ec5d-5c0a193fe34e",
        "colab": {
          "base_uri": "https://localhost:8080/",
          "height": 530
        }
      },
      "source": [
        "# convert class vectors to binary class matrices\n",
        "y_train = keras.utils.to_categorical(y_train_lab, num_classes)\n",
        "y_test = keras.utils.to_categorical(y_test_lab, num_classes)\n",
        "\n",
        "model = Sequential()\n",
        "model.add(Dense(512, activation='relu', input_shape=(784,)))\n",
        "model.add(Dropout(0.2))\n",
        "model.add(Dense(512, activation='relu'))\n",
        "model.add(Dropout(0.2))\n",
        "model.add(Dense(num_classes, activation='softmax'))\n",
        "\n",
        "model.summary()"
      ],
      "execution_count": 0,
      "outputs": [
        {
          "output_type": "stream",
          "text": [
            "WARNING: Logging before flag parsing goes to stderr.\n",
            "W0619 03:11:58.585118 140136388589440 deprecation_wrapper.py:119] From /usr/local/lib/python3.6/dist-packages/keras/backend/tensorflow_backend.py:74: The name tf.get_default_graph is deprecated. Please use tf.compat.v1.get_default_graph instead.\n",
            "\n",
            "W0619 03:11:58.589945 140136388589440 deprecation_wrapper.py:119] From /usr/local/lib/python3.6/dist-packages/keras/backend/tensorflow_backend.py:517: The name tf.placeholder is deprecated. Please use tf.compat.v1.placeholder instead.\n",
            "\n",
            "W0619 03:11:58.598109 140136388589440 deprecation_wrapper.py:119] From /usr/local/lib/python3.6/dist-packages/keras/backend/tensorflow_backend.py:4138: The name tf.random_uniform is deprecated. Please use tf.random.uniform instead.\n",
            "\n",
            "W0619 03:11:58.613635 140136388589440 deprecation_wrapper.py:119] From /usr/local/lib/python3.6/dist-packages/keras/backend/tensorflow_backend.py:133: The name tf.placeholder_with_default is deprecated. Please use tf.compat.v1.placeholder_with_default instead.\n",
            "\n",
            "W0619 03:11:58.622374 140136388589440 deprecation.py:506] From /usr/local/lib/python3.6/dist-packages/keras/backend/tensorflow_backend.py:3445: calling dropout (from tensorflow.python.ops.nn_ops) with keep_prob is deprecated and will be removed in a future version.\n",
            "Instructions for updating:\n",
            "Please use `rate` instead of `keep_prob`. Rate should be set to `rate = 1 - keep_prob`.\n"
          ],
          "name": "stderr"
        },
        {
          "output_type": "stream",
          "text": [
            "_________________________________________________________________\n",
            "Layer (type)                 Output Shape              Param #   \n",
            "=================================================================\n",
            "dense_1 (Dense)              (None, 512)               401920    \n",
            "_________________________________________________________________\n",
            "dropout_1 (Dropout)          (None, 512)               0         \n",
            "_________________________________________________________________\n",
            "dense_2 (Dense)              (None, 512)               262656    \n",
            "_________________________________________________________________\n",
            "dropout_2 (Dropout)          (None, 512)               0         \n",
            "_________________________________________________________________\n",
            "dense_3 (Dense)              (None, 10)                5130      \n",
            "=================================================================\n",
            "Total params: 669,706\n",
            "Trainable params: 669,706\n",
            "Non-trainable params: 0\n",
            "_________________________________________________________________\n"
          ],
          "name": "stdout"
        }
      ]
    },
    {
      "cell_type": "code",
      "metadata": {
        "id": "DWxn0vprLCON",
        "colab_type": "code",
        "outputId": "723d079e-3b7d-49eb-cd32-d6aaf0c4a84c",
        "colab": {
          "base_uri": "https://localhost:8080/",
          "height": 853
        }
      },
      "source": [
        "model.compile(loss='categorical_crossentropy',\n",
        "              optimizer=RMSprop(),\n",
        "              metrics=['accuracy'])\n",
        "\n",
        "history = model.fit(x_train, y_train,\n",
        "                    batch_size=batch_size,\n",
        "                    epochs=epochs,\n",
        "                    verbose=1,\n",
        "                    validation_data=(x_test, y_test))"
      ],
      "execution_count": 0,
      "outputs": [
        {
          "output_type": "stream",
          "text": [
            "W0619 03:11:58.703070 140136388589440 deprecation_wrapper.py:119] From /usr/local/lib/python3.6/dist-packages/keras/optimizers.py:790: The name tf.train.Optimizer is deprecated. Please use tf.compat.v1.train.Optimizer instead.\n",
            "\n",
            "W0619 03:11:58.711437 140136388589440 deprecation_wrapper.py:119] From /usr/local/lib/python3.6/dist-packages/keras/backend/tensorflow_backend.py:3295: The name tf.log is deprecated. Please use tf.math.log instead.\n",
            "\n",
            "W0619 03:11:58.820984 140136388589440 deprecation.py:323] From /usr/local/lib/python3.6/dist-packages/tensorflow/python/ops/math_grad.py:1250: add_dispatch_support.<locals>.wrapper (from tensorflow.python.ops.array_ops) is deprecated and will be removed in a future version.\n",
            "Instructions for updating:\n",
            "Use tf.where in 2.0, which has the same broadcast rule as np.where\n"
          ],
          "name": "stderr"
        },
        {
          "output_type": "stream",
          "text": [
            "Train on 60000 samples, validate on 10000 samples\n",
            "Epoch 1/20\n",
            "60000/60000 [==============================] - 5s 78us/step - loss: 0.2434 - acc: 0.9263 - val_loss: 0.1084 - val_acc: 0.9650\n",
            "Epoch 2/20\n",
            "60000/60000 [==============================] - 2s 31us/step - loss: 0.1027 - acc: 0.9686 - val_loss: 0.0797 - val_acc: 0.9740\n",
            "Epoch 3/20\n",
            "60000/60000 [==============================] - 2s 32us/step - loss: 0.0733 - acc: 0.9776 - val_loss: 0.0739 - val_acc: 0.9793\n",
            "Epoch 4/20\n",
            "60000/60000 [==============================] - 2s 31us/step - loss: 0.0615 - acc: 0.9820 - val_loss: 0.0723 - val_acc: 0.9803\n",
            "Epoch 5/20\n",
            "60000/60000 [==============================] - 2s 31us/step - loss: 0.0500 - acc: 0.9849 - val_loss: 0.0808 - val_acc: 0.9790\n",
            "Epoch 6/20\n",
            "60000/60000 [==============================] - 2s 31us/step - loss: 0.0440 - acc: 0.9872 - val_loss: 0.0749 - val_acc: 0.9817\n",
            "Epoch 7/20\n",
            "60000/60000 [==============================] - 2s 31us/step - loss: 0.0400 - acc: 0.9882 - val_loss: 0.0712 - val_acc: 0.9835\n",
            "Epoch 8/20\n",
            "60000/60000 [==============================] - 2s 32us/step - loss: 0.0343 - acc: 0.9895 - val_loss: 0.0824 - val_acc: 0.9828\n",
            "Epoch 9/20\n",
            "60000/60000 [==============================] - 2s 31us/step - loss: 0.0311 - acc: 0.9906 - val_loss: 0.0881 - val_acc: 0.9818\n",
            "Epoch 10/20\n",
            "60000/60000 [==============================] - 2s 32us/step - loss: 0.0291 - acc: 0.9919 - val_loss: 0.0946 - val_acc: 0.9791\n",
            "Epoch 11/20\n",
            "60000/60000 [==============================] - 2s 31us/step - loss: 0.0271 - acc: 0.9922 - val_loss: 0.0856 - val_acc: 0.9834\n",
            "Epoch 12/20\n",
            "60000/60000 [==============================] - 2s 31us/step - loss: 0.0240 - acc: 0.9926 - val_loss: 0.0951 - val_acc: 0.9807\n",
            "Epoch 13/20\n",
            "60000/60000 [==============================] - 2s 31us/step - loss: 0.0236 - acc: 0.9938 - val_loss: 0.1018 - val_acc: 0.9819\n",
            "Epoch 14/20\n",
            "60000/60000 [==============================] - 2s 32us/step - loss: 0.0238 - acc: 0.9938 - val_loss: 0.0917 - val_acc: 0.9815\n",
            "Epoch 15/20\n",
            "60000/60000 [==============================] - 2s 31us/step - loss: 0.0226 - acc: 0.9939 - val_loss: 0.1040 - val_acc: 0.9824\n",
            "Epoch 16/20\n",
            "60000/60000 [==============================] - 2s 31us/step - loss: 0.0217 - acc: 0.9944 - val_loss: 0.0974 - val_acc: 0.9830\n",
            "Epoch 17/20\n",
            "60000/60000 [==============================] - 2s 31us/step - loss: 0.0197 - acc: 0.9946 - val_loss: 0.1078 - val_acc: 0.9824\n",
            "Epoch 18/20\n",
            "60000/60000 [==============================] - 2s 31us/step - loss: 0.0205 - acc: 0.9950 - val_loss: 0.1023 - val_acc: 0.9835\n",
            "Epoch 19/20\n",
            "60000/60000 [==============================] - 2s 31us/step - loss: 0.0193 - acc: 0.9950 - val_loss: 0.1094 - val_acc: 0.9824\n",
            "Epoch 20/20\n",
            "60000/60000 [==============================] - 2s 31us/step - loss: 0.0190 - acc: 0.9951 - val_loss: 0.1097 - val_acc: 0.9837\n"
          ],
          "name": "stdout"
        }
      ]
    },
    {
      "cell_type": "code",
      "metadata": {
        "id": "cOTl7_evLS3Q",
        "colab_type": "code",
        "outputId": "c2096e84-9832-4199-f6df-764146e76a92",
        "colab": {
          "base_uri": "https://localhost:8080/",
          "height": 34
        }
      },
      "source": [
        "history"
      ],
      "execution_count": 0,
      "outputs": [
        {
          "output_type": "execute_result",
          "data": {
            "text/plain": [
              "<keras.callbacks.History at 0x7f73b407b748>"
            ]
          },
          "metadata": {
            "tags": []
          },
          "execution_count": 13
        }
      ]
    },
    {
      "cell_type": "code",
      "metadata": {
        "id": "NNHplCp_MvBX",
        "colab_type": "code",
        "outputId": "af35afd1-e8a1-4007-899d-50e81a1d86ab",
        "colab": {
          "base_uri": "https://localhost:8080/",
          "height": 51
        }
      },
      "source": [
        "score = model.evaluate(x_test, y_test, verbose=0)\n",
        "print('Test loss:', score[0])\n",
        "print('Test accuracy:', score[1])"
      ],
      "execution_count": 0,
      "outputs": [
        {
          "output_type": "stream",
          "text": [
            "Test loss: 0.10517008998441868\n",
            "Test accuracy: 0.985\n"
          ],
          "name": "stdout"
        }
      ]
    },
    {
      "cell_type": "code",
      "metadata": {
        "id": "mJ61yjp8xpXJ",
        "colab_type": "code",
        "outputId": "49ed9436-abee-42df-ffa1-dcfa4f6c3b62",
        "colab": {
          "base_uri": "https://localhost:8080/",
          "height": 238
        }
      },
      "source": [
        "PD = model.predict( x_test )\n",
        "pred_test= [np.argmax(y) for y in PD]\n",
        "A = [pred_test[i] for i in [13, 214, 719]]\n",
        "print(A)\n",
        "\n",
        "confusion = tf.confusion_matrix(y_test_lab, pred_test)\n",
        "\n",
        "with tf.Session():\n",
        "   print('Confusion Matrix: \\n\\n', tf.Tensor.eval(confusion,feed_dict=None, session=None))\n"
      ],
      "execution_count": 0,
      "outputs": [
        {
          "output_type": "stream",
          "text": [
            "[0, 9, 4]\n",
            "Confusion Matrix: \n",
            "\n",
            " [[ 971    1    0    1    1    0    2    3    1    0]\n",
            " [   0 1130    2    0    0    1    1    1    0    0]\n",
            " [   2    0 1021    2    1    0    1    5    0    0]\n",
            " [   0    0    2  994    0    1    0    7    0    6]\n",
            " [   1    1    5    0  962    0    3    2    0    8]\n",
            " [   2    0    0    8    1  873    3    1    1    3]\n",
            " [   3    2    0    1    4    2  946    0    0    0]\n",
            " [   1    1    8    0    0    0    0 1013    1    4]\n",
            " [   4    1    4    1    3    2    4    4  945    6]\n",
            " [   1    2    0    2    6    1    0    2    0  995]]\n"
          ],
          "name": "stdout"
        }
      ]
    },
    {
      "cell_type": "code",
      "metadata": {
        "id": "toqGem4SvhIa",
        "colab_type": "code",
        "outputId": "e13bf9f6-2a79-4abd-cac5-405b2c9bdef1",
        "colab": {
          "base_uri": "https://localhost:8080/",
          "height": 238
        }
      },
      "source": [
        "len(y_test)\n",
        "test_predictions"
      ],
      "execution_count": 0,
      "outputs": [
        {
          "output_type": "execute_result",
          "data": {
            "text/plain": [
              "array([[0.00000000e+00, 4.28510802e-32, 2.49176551e-28, ...,\n",
              "        1.00000000e+00, 8.27020402e-38, 1.49353171e-27],\n",
              "       [0.00000000e+00, 2.22045005e-31, 1.00000000e+00, ...,\n",
              "        0.00000000e+00, 0.00000000e+00, 0.00000000e+00],\n",
              "       [1.25881256e-27, 1.00000000e+00, 6.60048705e-20, ...,\n",
              "        4.00516273e-16, 1.15678326e-19, 7.38690091e-26],\n",
              "       ...,\n",
              "       [0.00000000e+00, 1.03655195e-23, 9.68526765e-32, ...,\n",
              "        7.71873166e-18, 9.50155942e-25, 3.34159130e-16],\n",
              "       [0.00000000e+00, 0.00000000e+00, 0.00000000e+00, ...,\n",
              "        1.01335616e-37, 1.75922835e-25, 0.00000000e+00],\n",
              "       [1.28428870e-32, 0.00000000e+00, 0.00000000e+00, ...,\n",
              "        0.00000000e+00, 1.03361533e-36, 0.00000000e+00]], dtype=float32)"
            ]
          },
          "metadata": {
            "tags": []
          },
          "execution_count": 78
        }
      ]
    },
    {
      "cell_type": "code",
      "metadata": {
        "id": "CV75MmAaLam0",
        "colab_type": "code",
        "outputId": "c64e40b7-a813-4d05-de75-f7c9cabc3b4d",
        "colab": {
          "base_uri": "https://localhost:8080/",
          "height": 136
        }
      },
      "source": [
        "x_train"
      ],
      "execution_count": 0,
      "outputs": [
        {
          "output_type": "execute_result",
          "data": {
            "text/plain": [
              "array([[0., 0., 0., ..., 0., 0., 0.],\n",
              "       [0., 0., 0., ..., 0., 0., 0.],\n",
              "       [0., 0., 0., ..., 0., 0., 0.],\n",
              "       ...,\n",
              "       [0., 0., 0., ..., 0., 0., 0.],\n",
              "       [0., 0., 0., ..., 0., 0., 0.],\n",
              "       [0., 0., 0., ..., 0., 0., 0.]], dtype=float32)"
            ]
          },
          "metadata": {
            "tags": []
          },
          "execution_count": 15
        }
      ]
    },
    {
      "cell_type": "code",
      "metadata": {
        "id": "3L-YlHikLkqi",
        "colab_type": "code",
        "outputId": "9f2ed7c7-d16e-42ff-84d6-ce0c0b462b20",
        "colab": {
          "base_uri": "https://localhost:8080/",
          "height": 136
        }
      },
      "source": [
        "x_test"
      ],
      "execution_count": 0,
      "outputs": [
        {
          "output_type": "execute_result",
          "data": {
            "text/plain": [
              "array([[0., 0., 0., ..., 0., 0., 0.],\n",
              "       [0., 0., 0., ..., 0., 0., 0.],\n",
              "       [0., 0., 0., ..., 0., 0., 0.],\n",
              "       ...,\n",
              "       [0., 0., 0., ..., 0., 0., 0.],\n",
              "       [0., 0., 0., ..., 0., 0., 0.],\n",
              "       [0., 0., 0., ..., 0., 0., 0.]], dtype=float32)"
            ]
          },
          "metadata": {
            "tags": []
          },
          "execution_count": 16
        }
      ]
    },
    {
      "cell_type": "code",
      "metadata": {
        "id": "uvHScxnXLnOQ",
        "colab_type": "code",
        "outputId": "b1c8a3c1-491d-43bb-e8ef-86de694514dc",
        "colab": {
          "base_uri": "https://localhost:8080/",
          "height": 2686
        }
      },
      "source": [
        "x_train[55]"
      ],
      "execution_count": 0,
      "outputs": [
        {
          "output_type": "execute_result",
          "data": {
            "text/plain": [
              "array([0.        , 0.        , 0.        , 0.        , 0.        ,\n",
              "       0.        , 0.        , 0.        , 0.        , 0.        ,\n",
              "       0.        , 0.        , 0.        , 0.        , 0.        ,\n",
              "       0.        , 0.        , 0.        , 0.        , 0.        ,\n",
              "       0.        , 0.        , 0.        , 0.        , 0.        ,\n",
              "       0.        , 0.        , 0.        , 0.        , 0.        ,\n",
              "       0.        , 0.        , 0.        , 0.        , 0.        ,\n",
              "       0.        , 0.        , 0.        , 0.        , 0.        ,\n",
              "       0.        , 0.        , 0.        , 0.        , 0.        ,\n",
              "       0.        , 0.        , 0.        , 0.        , 0.        ,\n",
              "       0.        , 0.        , 0.        , 0.        , 0.        ,\n",
              "       0.        , 0.        , 0.        , 0.        , 0.        ,\n",
              "       0.        , 0.        , 0.        , 0.        , 0.        ,\n",
              "       0.        , 0.        , 0.        , 0.        , 0.        ,\n",
              "       0.        , 0.        , 0.        , 0.        , 0.        ,\n",
              "       0.        , 0.        , 0.        , 0.        , 0.        ,\n",
              "       0.        , 0.        , 0.        , 0.        , 0.        ,\n",
              "       0.        , 0.        , 0.        , 0.        , 0.        ,\n",
              "       0.        , 0.        , 0.        , 0.        , 0.        ,\n",
              "       0.        , 0.        , 0.        , 0.        , 0.        ,\n",
              "       0.        , 0.        , 0.        , 0.        , 0.        ,\n",
              "       0.        , 0.        , 0.        , 0.        , 0.        ,\n",
              "       0.        , 0.        , 0.        , 0.        , 0.        ,\n",
              "       0.        , 0.        , 0.        , 0.        , 0.        ,\n",
              "       0.        , 0.        , 0.        , 0.        , 0.        ,\n",
              "       0.        , 0.        , 0.        , 0.        , 0.        ,\n",
              "       0.        , 0.        , 0.        , 0.        , 0.        ,\n",
              "       0.        , 0.        , 0.        , 0.        , 0.        ,\n",
              "       0.        , 0.        , 0.        , 0.        , 0.        ,\n",
              "       0.        , 0.        , 0.        , 0.        , 0.        ,\n",
              "       0.        , 0.        , 0.        , 0.        , 0.        ,\n",
              "       0.        , 0.        , 0.        , 0.        , 0.        ,\n",
              "       0.        , 0.        , 0.        , 0.        , 0.        ,\n",
              "       0.        , 0.        , 0.        , 0.        , 0.        ,\n",
              "       0.        , 0.        , 0.        , 0.        , 0.        ,\n",
              "       0.        , 0.        , 0.        , 0.        , 0.        ,\n",
              "       0.        , 0.11372549, 0.50980395, 0.50980395, 0.88235295,\n",
              "       1.        , 1.        , 0.42745098, 0.02745098, 0.45490196,\n",
              "       0.9529412 , 0.78431374, 0.02352941, 0.        , 0.        ,\n",
              "       0.        , 0.        , 0.        , 0.        , 0.        ,\n",
              "       0.        , 0.        , 0.        , 0.        , 0.        ,\n",
              "       0.        , 0.        , 0.03137255, 0.37254903, 0.8509804 ,\n",
              "       0.99215686, 0.99215686, 0.99215686, 0.99215686, 0.99215686,\n",
              "       0.99215686, 0.99215686, 0.99215686, 0.99215686, 0.972549  ,\n",
              "       0.04313726, 0.        , 0.        , 0.        , 0.        ,\n",
              "       0.        , 0.        , 0.        , 0.        , 0.        ,\n",
              "       0.        , 0.        , 0.        , 0.        , 0.10588235,\n",
              "       0.8352941 , 0.99215686, 0.99215686, 0.9411765 , 0.56078434,\n",
              "       0.43529412, 0.59607846, 0.99215686, 0.99215686, 0.99215686,\n",
              "       0.99215686, 0.7607843 , 0.24313726, 0.        , 0.        ,\n",
              "       0.        , 0.        , 0.        , 0.        , 0.        ,\n",
              "       0.        , 0.        , 0.        , 0.        , 0.        ,\n",
              "       0.        , 0.10588235, 0.8352941 , 0.99215686, 0.84313726,\n",
              "       0.4117647 , 0.12156863, 0.        , 0.02745098, 0.6       ,\n",
              "       0.99215686, 0.99215686, 0.99215686, 0.95686275, 0.28627452,\n",
              "       0.        , 0.        , 0.        , 0.        , 0.        ,\n",
              "       0.        , 0.        , 0.        , 0.        , 0.        ,\n",
              "       0.        , 0.        , 0.        , 0.        , 0.58431375,\n",
              "       0.99215686, 0.9019608 , 0.13333334, 0.        , 0.        ,\n",
              "       0.        , 0.27058825, 0.99215686, 0.99215686, 0.99215686,\n",
              "       0.99215686, 0.30980393, 0.        , 0.        , 0.        ,\n",
              "       0.        , 0.        , 0.        , 0.        , 0.        ,\n",
              "       0.        , 0.        , 0.        , 0.        , 0.        ,\n",
              "       0.        , 0.        , 0.58431375, 0.99215686, 0.8666667 ,\n",
              "       0.05098039, 0.        , 0.        , 0.10980392, 0.6117647 ,\n",
              "       0.99215686, 0.99215686, 0.99215686, 0.6901961 , 0.04313726,\n",
              "       0.        , 0.        , 0.        , 0.        , 0.        ,\n",
              "       0.        , 0.        , 0.        , 0.        , 0.        ,\n",
              "       0.        , 0.        , 0.        , 0.        , 0.        ,\n",
              "       0.24705882, 0.9254902 , 0.99215686, 0.6862745 , 0.05490196,\n",
              "       0.        , 0.7294118 , 0.99215686, 0.99215686, 0.99215686,\n",
              "       0.76862746, 0.05098039, 0.        , 0.        , 0.        ,\n",
              "       0.        , 0.        , 0.        , 0.        , 0.        ,\n",
              "       0.        , 0.        , 0.        , 0.        , 0.        ,\n",
              "       0.        , 0.        , 0.        , 0.        , 0.2784314 ,\n",
              "       0.99215686, 0.99215686, 0.68235296, 0.19607843, 0.78039217,\n",
              "       0.99215686, 0.99215686, 0.92941177, 0.2901961 , 0.        ,\n",
              "       0.        , 0.        , 0.        , 0.        , 0.        ,\n",
              "       0.        , 0.        , 0.        , 0.        , 0.        ,\n",
              "       0.        , 0.        , 0.        , 0.        , 0.        ,\n",
              "       0.        , 0.        , 0.03529412, 0.36078432, 0.91764706,\n",
              "       0.99215686, 0.99215686, 0.99215686, 0.99215686, 0.92941177,\n",
              "       0.2901961 , 0.        , 0.        , 0.        , 0.        ,\n",
              "       0.        , 0.        , 0.        , 0.        , 0.        ,\n",
              "       0.        , 0.        , 0.        , 0.        , 0.        ,\n",
              "       0.        , 0.        , 0.        , 0.        , 0.        ,\n",
              "       0.        , 0.        , 0.3019608 , 0.99215686, 0.99215686,\n",
              "       0.99215686, 0.9254902 , 0.29411766, 0.        , 0.        ,\n",
              "       0.        , 0.        , 0.        , 0.        , 0.        ,\n",
              "       0.        , 0.        , 0.        , 0.        , 0.        ,\n",
              "       0.        , 0.        , 0.        , 0.        , 0.        ,\n",
              "       0.        , 0.        , 0.        , 0.        , 0.04313726,\n",
              "       0.6313726 , 0.99215686, 0.99215686, 0.99215686, 0.5921569 ,\n",
              "       0.        , 0.        , 0.        , 0.        , 0.        ,\n",
              "       0.        , 0.        , 0.        , 0.        , 0.        ,\n",
              "       0.        , 0.        , 0.        , 0.        , 0.        ,\n",
              "       0.        , 0.        , 0.        , 0.        , 0.        ,\n",
              "       0.        , 0.03921569, 0.39607844, 0.99215686, 0.99215686,\n",
              "       0.92941177, 0.9137255 , 0.61960787, 0.        , 0.        ,\n",
              "       0.        , 0.        , 0.        , 0.        , 0.        ,\n",
              "       0.        , 0.        , 0.        , 0.        , 0.        ,\n",
              "       0.        , 0.        , 0.        , 0.        , 0.        ,\n",
              "       0.        , 0.        , 0.        , 0.        , 0.5137255 ,\n",
              "       0.99215686, 0.99215686, 0.6784314 , 0.14901961, 0.7294118 ,\n",
              "       0.7254902 , 0.        , 0.        , 0.        , 0.        ,\n",
              "       0.        , 0.        , 0.        , 0.        , 0.        ,\n",
              "       0.        , 0.        , 0.        , 0.        , 0.        ,\n",
              "       0.        , 0.        , 0.        , 0.        , 0.        ,\n",
              "       0.        , 0.49019608, 0.92941177, 0.99215686, 0.44705883,\n",
              "       0.05490196, 0.        , 0.7294118 , 0.7254902 , 0.        ,\n",
              "       0.        , 0.        , 0.        , 0.        , 0.        ,\n",
              "       0.        , 0.        , 0.        , 0.        , 0.        ,\n",
              "       0.        , 0.        , 0.        , 0.        , 0.        ,\n",
              "       0.        , 0.        , 0.        , 0.24313726, 0.93333334,\n",
              "       0.99215686, 0.6901961 , 0.05098039, 0.        , 0.08235294,\n",
              "       0.827451  , 0.7254902 , 0.        , 0.        , 0.        ,\n",
              "       0.        , 0.        , 0.        , 0.        , 0.        ,\n",
              "       0.        , 0.        , 0.        , 0.        , 0.        ,\n",
              "       0.        , 0.        , 0.        , 0.        , 0.        ,\n",
              "       0.04313726, 0.9411765 , 0.99215686, 0.8862745 , 0.04313726,\n",
              "       0.        , 0.        , 0.64705884, 0.99215686, 0.53333336,\n",
              "       0.        , 0.        , 0.        , 0.        , 0.        ,\n",
              "       0.        , 0.        , 0.        , 0.        , 0.        ,\n",
              "       0.        , 0.        , 0.        , 0.        , 0.        ,\n",
              "       0.        , 0.        , 0.        , 0.49411765, 0.99215686,\n",
              "       0.9529412 , 0.27058825, 0.        , 0.        , 0.38039216,\n",
              "       0.9647059 , 0.8901961 , 0.14117648, 0.        , 0.        ,\n",
              "       0.        , 0.        , 0.        , 0.        , 0.        ,\n",
              "       0.        , 0.        , 0.        , 0.        , 0.        ,\n",
              "       0.        , 0.        , 0.        , 0.        , 0.        ,\n",
              "       0.        , 0.53333336, 0.99215686, 0.69803923, 0.4392157 ,\n",
              "       0.4392157 , 0.7607843 , 0.972549  , 0.99215686, 0.29803923,\n",
              "       0.        , 0.        , 0.        , 0.        , 0.        ,\n",
              "       0.        , 0.        , 0.        , 0.        , 0.        ,\n",
              "       0.        , 0.        , 0.        , 0.        , 0.        ,\n",
              "       0.        , 0.        , 0.        , 0.        , 0.53333336,\n",
              "       0.99215686, 0.99215686, 0.99215686, 0.99215686, 0.99215686,\n",
              "       0.99215686, 0.5568628 , 0.01176471, 0.        , 0.        ,\n",
              "       0.        , 0.        , 0.        , 0.        , 0.        ,\n",
              "       0.        , 0.        , 0.        , 0.        , 0.        ,\n",
              "       0.        , 0.        , 0.        , 0.        , 0.        ,\n",
              "       0.        , 0.        , 0.05882353, 0.99215686, 0.99215686,\n",
              "       0.99215686, 0.92156863, 0.5058824 , 0.1764706 , 0.00784314,\n",
              "       0.        , 0.        , 0.        , 0.        , 0.        ,\n",
              "       0.        , 0.        , 0.        , 0.        , 0.        ,\n",
              "       0.        , 0.        , 0.        , 0.        , 0.        ,\n",
              "       0.        , 0.        , 0.        , 0.        , 0.        ,\n",
              "       0.        , 0.        , 0.        , 0.        , 0.        ,\n",
              "       0.        , 0.        , 0.        , 0.        , 0.        ,\n",
              "       0.        , 0.        , 0.        , 0.        , 0.        ,\n",
              "       0.        , 0.        , 0.        , 0.        , 0.        ,\n",
              "       0.        , 0.        , 0.        , 0.        , 0.        ,\n",
              "       0.        , 0.        , 0.        , 0.        , 0.        ,\n",
              "       0.        , 0.        , 0.        , 0.        , 0.        ,\n",
              "       0.        , 0.        , 0.        , 0.        , 0.        ,\n",
              "       0.        , 0.        , 0.        , 0.        , 0.        ,\n",
              "       0.        , 0.        , 0.        , 0.        ], dtype=float32)"
            ]
          },
          "metadata": {
            "tags": []
          },
          "execution_count": 17
        }
      ]
    },
    {
      "cell_type": "markdown",
      "metadata": {
        "id": "fzBDt4WTXUkA",
        "colab_type": "text"
      },
      "source": [
        "## def plot_imag"
      ]
    },
    {
      "cell_type": "code",
      "metadata": {
        "id": "QB2r4JB5QCtO",
        "colab_type": "code",
        "colab": {}
      },
      "source": [
        "import matplotlib.pyplot as plt  \n",
        "def plot_image(image):  \n",
        "    fig = plt.gcf()  \n",
        "    fig.set_size_inches(2,2)  \n",
        "    plt.imshow(image, cmap='binary') # cmap='binary' 參數設定以黑白灰階顯示.  \n",
        "    plt.show()  "
      ],
      "execution_count": 0,
      "outputs": []
    },
    {
      "cell_type": "code",
      "metadata": {
        "id": "Qr-tau9HQLv2",
        "colab_type": "code",
        "outputId": "42ea2695-1224-4ee5-fa38-311c9eb12745",
        "colab": {
          "base_uri": "https://localhost:8080/",
          "height": 160
        }
      },
      "source": [
        "plot_image(x_train_img[0])"
      ],
      "execution_count": 0,
      "outputs": [
        {
          "output_type": "display_data",
          "data": {
            "image/png": "[encoded data removed]",
            "text/plain": [
              "<Figure size 144x144 with 1 Axes>"
            ]
          },
          "metadata": {
            "tags": []
          }
        }
      ]
    },
    {
      "cell_type": "markdown",
      "metadata": {
        "id": "05qFEbjeXcMk",
        "colab_type": "text"
      },
      "source": [
        "## def plot_images_labels_predict"
      ]
    },
    {
      "cell_type": "code",
      "metadata": {
        "id": "-2SDVQk_N8wA",
        "colab_type": "code",
        "colab": {}
      },
      "source": [
        "def plot_images_labels_predict(images, labels, prediction, idx, num=10):  \n",
        "    fig = plt.gcf()  \n",
        "    fig.set_size_inches(12, 14)  \n",
        "    if num > 25: num = 25  \n",
        "    for i in range(0, num):  \n",
        "        ax=plt.subplot(5,5, 1+i)  \n",
        "        ax.imshow(images[idx], cmap='binary')  \n",
        "        title = \"l=\" + str(labels[idx])  \n",
        "        if len(prediction) > 0:  \n",
        "            title = \"lab={},p={}\".format(str(labels[idx]), str(prediction[idx]))  \n",
        "        else:  \n",
        "            title = \"lab={}\".format(str(labels[idx]))  \n",
        "        ax.set_title(title, fontsize=10)  \n",
        "        ax.set_xticks([]); ax.set_yticks([])  \n",
        "        idx+=1  \n",
        "    plt.show() "
      ],
      "execution_count": 0,
      "outputs": []
    },
    {
      "cell_type": "code",
      "metadata": {
        "id": "w4c0F3w5N_M5",
        "colab_type": "code",
        "outputId": "08eb3b5f-c50f-4202-bd5e-cbbc89c25ca5",
        "colab": {
          "base_uri": "https://localhost:8080/",
          "height": 321
        }
      },
      "source": [
        "plot_images_labels_predict( x_train_img, y_train_lab, [], 0, 10)"
      ],
      "execution_count": 0,
      "outputs": [
        {
          "output_type": "display_data",
          "data": {
            "image/png": "[encoded data removed]",
            "text/plain": [
              "<Figure size 864x1008 with 10 Axes>"
            ]
          },
          "metadata": {
            "tags": []
          }
        }
      ]
    },
    {
      "cell_type": "code",
      "metadata": {
        "id": "3sDvHFdoM_ct",
        "colab_type": "code",
        "outputId": "fa121ef5-7f88-47bc-da57-8e7d3b81da70",
        "colab": {
          "base_uri": "https://localhost:8080/",
          "height": 211
        }
      },
      "source": [
        "plot_image(x_train_img[55])\n",
        "model.predict( x_train )[55]\n"
      ],
      "execution_count": 0,
      "outputs": [
        {
          "output_type": "display_data",
          "data": {
            "image/png": "[encoded data removed]",
            "text/plain": [
              "<Figure size 144x144 with 1 Axes>"
            ]
          },
          "metadata": {
            "tags": []
          }
        },
        {
          "output_type": "execute_result",
          "data": {
            "text/plain": [
              "array([7.9970262e-25, 7.3233676e-14, 2.8187777e-17, 2.5199609e-16,\n",
              "       2.8302888e-22, 1.9751406e-18, 5.6351995e-26, 8.1853567e-18,\n",
              "       1.0000000e+00, 2.1055393e-15], dtype=float32)"
            ]
          },
          "metadata": {
            "tags": []
          },
          "execution_count": 22
        }
      ]
    },
    {
      "cell_type": "code",
      "metadata": {
        "id": "vlo3h5-cTOo4",
        "colab_type": "code",
        "outputId": "eebc7cb2-aca9-45d5-90b7-4843bccf21a6",
        "colab": {
          "base_uri": "https://localhost:8080/",
          "height": 211
        }
      },
      "source": [
        "plot_image(x_test_img[55])\n",
        "\n",
        "model.predict( x_test )[55]"
      ],
      "execution_count": 0,
      "outputs": [
        {
          "output_type": "display_data",
          "data": {
            "image/png": "[encoded data removed]",
            "text/plain": [
              "<Figure size 144x144 with 1 Axes>"
            ]
          },
          "metadata": {
            "tags": []
          }
        },
        {
          "output_type": "execute_result",
          "data": {
            "text/plain": [
              "array([1.0000000e+00, 2.2790023e-23, 2.8897447e-16, 7.5743057e-29,\n",
              "       5.7765640e-26, 1.1434616e-22, 1.2795654e-16, 1.5510005e-22,\n",
              "       1.0175378e-18, 8.5648221e-22], dtype=float32)"
            ]
          },
          "metadata": {
            "tags": []
          },
          "execution_count": 23
        }
      ]
    },
    {
      "cell_type": "code",
      "metadata": {
        "id": "ZJ1BjUlhLt4z",
        "colab_type": "code",
        "outputId": "602c0646-fb35-41c1-cf72-051575f5acce",
        "colab": {
          "base_uri": "https://localhost:8080/",
          "height": 2686
        }
      },
      "source": [
        "x_test[55]"
      ],
      "execution_count": 0,
      "outputs": [
        {
          "output_type": "execute_result",
          "data": {
            "text/plain": [
              "array([0.        , 0.        , 0.        , 0.        , 0.        ,\n",
              "       0.        , 0.        , 0.        , 0.        , 0.        ,\n",
              "       0.        , 0.        , 0.        , 0.        , 0.        ,\n",
              "       0.        , 0.        , 0.        , 0.        , 0.        ,\n",
              "       0.        , 0.        , 0.        , 0.        , 0.        ,\n",
              "       0.        , 0.        , 0.        , 0.        , 0.        ,\n",
              "       0.        , 0.        , 0.        , 0.        , 0.        ,\n",
              "       0.        , 0.        , 0.        , 0.        , 0.        ,\n",
              "       0.        , 0.        , 0.        , 0.        , 0.        ,\n",
              "       0.        , 0.        , 0.        , 0.        , 0.        ,\n",
              "       0.        , 0.        , 0.        , 0.        , 0.        ,\n",
              "       0.        , 0.        , 0.        , 0.        , 0.        ,\n",
              "       0.        , 0.        , 0.        , 0.        , 0.        ,\n",
              "       0.        , 0.        , 0.        , 0.        , 0.        ,\n",
              "       0.        , 0.        , 0.        , 0.        , 0.        ,\n",
              "       0.        , 0.        , 0.        , 0.        , 0.        ,\n",
              "       0.        , 0.        , 0.        , 0.        , 0.        ,\n",
              "       0.        , 0.        , 0.        , 0.        , 0.        ,\n",
              "       0.        , 0.        , 0.        , 0.        , 0.        ,\n",
              "       0.        , 0.        , 0.        , 0.        , 0.        ,\n",
              "       0.        , 0.        , 0.        , 0.        , 0.        ,\n",
              "       0.        , 0.        , 0.        , 0.        , 0.        ,\n",
              "       0.        , 0.        , 0.        , 0.        , 0.        ,\n",
              "       0.        , 0.        , 0.        , 0.        , 0.        ,\n",
              "       0.        , 0.        , 0.        , 0.        , 0.        ,\n",
              "       0.        , 0.        , 0.        , 0.        , 0.        ,\n",
              "       0.        , 0.        , 0.        , 0.        , 0.        ,\n",
              "       0.        , 0.        , 0.        , 0.        , 0.        ,\n",
              "       0.        , 0.        , 0.        , 0.        , 0.        ,\n",
              "       0.        , 0.        , 0.        , 0.        , 0.        ,\n",
              "       0.        , 0.03921569, 0.11372549, 0.01568628, 0.40784314,\n",
              "       0.8980392 , 0.99215686, 0.5058824 , 0.03921569, 0.        ,\n",
              "       0.        , 0.        , 0.        , 0.        , 0.        ,\n",
              "       0.        , 0.        , 0.        , 0.        , 0.        ,\n",
              "       0.        , 0.        , 0.        , 0.        , 0.        ,\n",
              "       0.        , 0.        , 0.        , 0.        , 0.33333334,\n",
              "       0.9882353 , 0.7019608 , 0.9882353 , 0.9882353 , 0.9882353 ,\n",
              "       0.99215686, 0.47843137, 0.05098039, 0.        , 0.        ,\n",
              "       0.        , 0.        , 0.        , 0.        , 0.        ,\n",
              "       0.        , 0.        , 0.        , 0.        , 0.        ,\n",
              "       0.        , 0.        , 0.        , 0.        , 0.        ,\n",
              "       0.        , 0.        , 0.48235294, 0.9882353 , 0.99215686,\n",
              "       0.9882353 , 0.5803922 , 0.21960784, 0.99215686, 0.9882353 ,\n",
              "       0.56078434, 0.        , 0.        , 0.        , 0.        ,\n",
              "       0.        , 0.        , 0.        , 0.        , 0.        ,\n",
              "       0.        , 0.        , 0.        , 0.        , 0.        ,\n",
              "       0.        , 0.        , 0.        , 0.        , 0.2       ,\n",
              "       0.9647059 , 0.9882353 , 0.99215686, 0.4       , 0.02352941,\n",
              "       0.        , 0.6       , 0.9882353 , 0.65882355, 0.        ,\n",
              "       0.        , 0.        , 0.        , 0.        , 0.        ,\n",
              "       0.        , 0.        , 0.        , 0.        , 0.        ,\n",
              "       0.        , 0.        , 0.        , 0.        , 0.        ,\n",
              "       0.        , 0.        , 0.6666667 , 0.99215686, 0.99215686,\n",
              "       1.        , 0.32941177, 0.        , 0.        , 0.05098039,\n",
              "       0.8117647 , 0.99215686, 0.35686275, 0.        , 0.        ,\n",
              "       0.        , 0.        , 0.        , 0.        , 0.        ,\n",
              "       0.        , 0.        , 0.        , 0.        , 0.        ,\n",
              "       0.        , 0.        , 0.        , 0.        , 0.        ,\n",
              "       0.6627451 , 0.9882353 , 0.9882353 , 0.96862745, 0.25490198,\n",
              "       0.        , 0.        , 0.        , 0.6627451 , 0.9882353 ,\n",
              "       0.84313726, 0.        , 0.        , 0.        , 0.        ,\n",
              "       0.        , 0.        , 0.        , 0.        , 0.        ,\n",
              "       0.        , 0.        , 0.        , 0.        , 0.        ,\n",
              "       0.        , 0.        , 0.        , 0.6627451 , 0.9882353 ,\n",
              "       0.9882353 , 0.39215687, 0.        , 0.        , 0.        ,\n",
              "       0.        , 0.32156864, 0.9882353 , 0.9882353 , 0.        ,\n",
              "       0.        , 0.        , 0.        , 0.        , 0.        ,\n",
              "       0.        , 0.        , 0.        , 0.        , 0.        ,\n",
              "       0.        , 0.        , 0.        , 0.        , 0.        ,\n",
              "       0.10196079, 0.9529412 , 0.9882353 , 0.9882353 , 0.        ,\n",
              "       0.        , 0.        , 0.        , 0.        , 0.22352941,\n",
              "       0.9882353 , 0.9882353 , 0.        , 0.        , 0.        ,\n",
              "       0.        , 0.        , 0.        , 0.        , 0.        ,\n",
              "       0.        , 0.        , 0.        , 0.        , 0.        ,\n",
              "       0.        , 0.        , 0.        , 0.16078432, 0.99215686,\n",
              "       0.99215686, 0.99215686, 0.        , 0.        , 0.        ,\n",
              "       0.        , 0.        , 0.22352941, 0.99215686, 0.99215686,\n",
              "       0.        , 0.        , 0.        , 0.        , 0.        ,\n",
              "       0.        , 0.        , 0.        , 0.        , 0.        ,\n",
              "       0.        , 0.        , 0.        , 0.        , 0.        ,\n",
              "       0.        , 0.5529412 , 0.9882353 , 0.9882353 , 0.9882353 ,\n",
              "       0.        , 0.        , 0.        , 0.        , 0.        ,\n",
              "       0.22352941, 0.9882353 , 0.9882353 , 0.        , 0.        ,\n",
              "       0.        , 0.        , 0.        , 0.        , 0.        ,\n",
              "       0.        , 0.        , 0.        , 0.        , 0.        ,\n",
              "       0.        , 0.        , 0.        , 0.        , 0.8980392 ,\n",
              "       0.9882353 , 0.8784314 , 0.65882355, 0.        , 0.        ,\n",
              "       0.        , 0.        , 0.        , 0.22352941, 0.9882353 ,\n",
              "       0.9882353 , 0.        , 0.        , 0.        , 0.        ,\n",
              "       0.        , 0.        , 0.        , 0.        , 0.        ,\n",
              "       0.        , 0.        , 0.        , 0.        , 0.        ,\n",
              "       0.        , 0.        , 0.99215686, 0.9882353 , 0.65882355,\n",
              "       0.        , 0.        , 0.        , 0.        , 0.        ,\n",
              "       0.        , 0.22352941, 0.9882353 , 0.9882353 , 0.        ,\n",
              "       0.        , 0.        , 0.        , 0.        , 0.        ,\n",
              "       0.        , 0.        , 0.        , 0.        , 0.        ,\n",
              "       0.        , 0.        , 0.        , 0.        , 0.        ,\n",
              "       0.99607843, 0.99215686, 0.65882355, 0.        , 0.        ,\n",
              "       0.        , 0.        , 0.        , 0.        , 0.47058824,\n",
              "       0.99215686, 0.74509805, 0.        , 0.        , 0.        ,\n",
              "       0.        , 0.        , 0.        , 0.        , 0.        ,\n",
              "       0.        , 0.        , 0.        , 0.        , 0.        ,\n",
              "       0.        , 0.        , 0.        , 0.99215686, 0.9882353 ,\n",
              "       0.3647059 , 0.        , 0.        , 0.        , 0.        ,\n",
              "       0.        , 0.        , 0.6627451 , 0.9882353 , 0.25490198,\n",
              "       0.        , 0.        , 0.        , 0.        , 0.        ,\n",
              "       0.        , 0.        , 0.        , 0.        , 0.        ,\n",
              "       0.        , 0.        , 0.        , 0.        , 0.        ,\n",
              "       0.        , 0.99215686, 0.9882353 , 0.21960784, 0.        ,\n",
              "       0.        , 0.        , 0.        , 0.        , 0.03921569,\n",
              "       0.77254903, 0.9882353 , 0.10980392, 0.        , 0.        ,\n",
              "       0.        , 0.        , 0.        , 0.        , 0.        ,\n",
              "       0.        , 0.        , 0.        , 0.        , 0.        ,\n",
              "       0.        , 0.        , 0.        , 0.        , 0.99215686,\n",
              "       0.9882353 , 0.6117647 , 0.        , 0.        , 0.        ,\n",
              "       0.        , 0.        , 0.7019608 , 0.9882353 , 0.69411767,\n",
              "       0.01176471, 0.        , 0.        , 0.        , 0.        ,\n",
              "       0.        , 0.        , 0.        , 0.        , 0.        ,\n",
              "       0.        , 0.        , 0.        , 0.        , 0.        ,\n",
              "       0.        , 0.        , 0.7019608 , 0.99215686, 0.69803923,\n",
              "       0.0627451 , 0.        , 0.07450981, 0.25882354, 0.7490196 ,\n",
              "       0.99607843, 0.81960785, 0.09803922, 0.        , 0.        ,\n",
              "       0.        , 0.        , 0.        , 0.        , 0.        ,\n",
              "       0.        , 0.        , 0.        , 0.        , 0.        ,\n",
              "       0.        , 0.        , 0.        , 0.        , 0.        ,\n",
              "       0.08627451, 0.91764706, 0.9882353 , 0.84313726, 0.6627451 ,\n",
              "       0.88235295, 0.9882353 , 0.9882353 , 0.81960785, 0.10980392,\n",
              "       0.        , 0.        , 0.        , 0.        , 0.        ,\n",
              "       0.        , 0.        , 0.        , 0.        , 0.        ,\n",
              "       0.        , 0.        , 0.        , 0.        , 0.        ,\n",
              "       0.        , 0.        , 0.        , 0.        , 0.5137255 ,\n",
              "       0.9882353 , 0.9882353 , 0.99215686, 0.9882353 , 0.9882353 ,\n",
              "       0.8392157 , 0.09803922, 0.        , 0.        , 0.        ,\n",
              "       0.        , 0.        , 0.        , 0.        , 0.        ,\n",
              "       0.        , 0.        , 0.        , 0.        , 0.        ,\n",
              "       0.        , 0.        , 0.        , 0.        , 0.        ,\n",
              "       0.        , 0.        , 0.02745098, 0.25490198, 0.9411765 ,\n",
              "       0.99215686, 0.69411767, 0.40392157, 0.05882353, 0.        ,\n",
              "       0.        , 0.        , 0.        , 0.        , 0.        ,\n",
              "       0.        , 0.        , 0.        , 0.        , 0.        ,\n",
              "       0.        , 0.        , 0.        , 0.        , 0.        ,\n",
              "       0.        , 0.        , 0.        , 0.        , 0.        ,\n",
              "       0.        , 0.        , 0.        , 0.        , 0.        ,\n",
              "       0.        , 0.        , 0.        , 0.        , 0.        ,\n",
              "       0.        , 0.        , 0.        , 0.        , 0.        ,\n",
              "       0.        , 0.        , 0.        , 0.        , 0.        ,\n",
              "       0.        , 0.        , 0.        , 0.        , 0.        ,\n",
              "       0.        , 0.        , 0.        , 0.        , 0.        ,\n",
              "       0.        , 0.        , 0.        , 0.        , 0.        ,\n",
              "       0.        , 0.        , 0.        , 0.        , 0.        ,\n",
              "       0.        , 0.        , 0.        , 0.        , 0.        ,\n",
              "       0.        , 0.        , 0.        , 0.        , 0.        ,\n",
              "       0.        , 0.        , 0.        , 0.        , 0.        ,\n",
              "       0.        , 0.        , 0.        , 0.        , 0.        ,\n",
              "       0.        , 0.        , 0.        , 0.        , 0.        ,\n",
              "       0.        , 0.        , 0.        , 0.        , 0.        ,\n",
              "       0.        , 0.        , 0.        , 0.        ], dtype=float32)"
            ]
          },
          "metadata": {
            "tags": []
          },
          "execution_count": 24
        }
      ]
    },
    {
      "cell_type": "code",
      "metadata": {
        "id": "_IuwCxm2LwQ8",
        "colab_type": "code",
        "outputId": "d715d207-ee8d-40f1-c73c-95fec76e316f",
        "colab": {
          "base_uri": "https://localhost:8080/",
          "height": 497
        }
      },
      "source": [
        "PD = model.predict( x_test )\n",
        "\n",
        "for i in [13, 214, 719] :\n",
        "   plot_image(x_test_img[i])\n",
        "   print( \"Image[%03d]:Pred(%d)\" % (i, pred_test[i]), ['%.2f' % v for v in PD[i] ],  )"
      ],
      "execution_count": 0,
      "outputs": [
        {
          "output_type": "display_data",
          "data": {
            "image/png": "[encoded data removed]",
            "text/plain": [
              "<Figure size 144x144 with 1 Axes>"
            ]
          },
          "metadata": {
            "tags": []
          }
        },
        {
          "output_type": "stream",
          "text": [
            "Image[013]:Pred(0) ['1.00', '0.00', '0.00', '0.00', '0.00', '0.00', '0.00', '0.00', '0.00', '0.00']\n"
          ],
          "name": "stdout"
        },
        {
          "output_type": "display_data",
          "data": {
            "image/png": "[encoded data removed]",
            "text/plain": [
              "<Figure size 144x144 with 1 Axes>"
            ]
          },
          "metadata": {
            "tags": []
          }
        },
        {
          "output_type": "stream",
          "text": [
            "Image[214]:Pred(9) ['0.00', '0.00', '0.00', '0.00', '0.00', '0.00', '0.00', '0.00', '0.00', '1.00']\n"
          ],
          "name": "stdout"
        },
        {
          "output_type": "display_data",
          "data": {
            "image/png": "[encoded data removed]",
            "text/plain": [
              "<Figure size 144x144 with 1 Axes>"
            ]
          },
          "metadata": {
            "tags": []
          }
        },
        {
          "output_type": "stream",
          "text": [
            "Image[719]:Pred(4) ['0.00', '0.00', '0.00', '0.00', '1.00', '0.00', '0.00', '0.00', '0.00', '0.00']\n"
          ],
          "name": "stdout"
        }
      ]
    },
    {
      "cell_type": "code",
      "metadata": {
        "id": "tHWFAclLVxi9",
        "colab_type": "code",
        "outputId": "130cd935-7c8b-4b22-df24-a17e34f1815b",
        "colab": {
          "base_uri": "https://localhost:8080/",
          "height": 824
        }
      },
      "source": [
        "import numpy as np\n",
        "import matplotlib.pyplot as plt\n",
        "PD = model.predict( x_test )\n",
        "\n",
        "for i in [55, 77, 173] :\n",
        "   image = np.array( x_test[i], dtype='float' )\n",
        "   pixels = image.reshape((28, 28))\n",
        "   plt.imshow(pixels, cmap='gray')\n",
        "   print( \"Image[%d]:\" % i, ['%.2f' % v for v in PD[i] ] )\n",
        "   plt.show()\n",
        "   #print(PD[i])"
      ],
      "execution_count": 0,
      "outputs": [
        {
          "output_type": "stream",
          "text": [
            "Image[55]: ['1.00', '0.00', '0.00', '0.00', '0.00', '0.00', '0.00', '0.00', '0.00', '0.00']\n"
          ],
          "name": "stdout"
        },
        {
          "output_type": "display_data",
          "data": {
            "image/png": "[encoded data removed]",
            "text/plain": [
              "<Figure size 432x288 with 1 Axes>"
            ]
          },
          "metadata": {
            "tags": []
          }
        },
        {
          "output_type": "stream",
          "text": [
            "Image[77]: ['0.00', '0.00', '1.00', '0.00', '0.00', '0.00', '0.00', '0.00', '0.00', '0.00']\n"
          ],
          "name": "stdout"
        },
        {
          "output_type": "display_data",
          "data": {
            "image/png": "[encoded data removed]",
            "text/plain": [
              "<Figure size 432x288 with 1 Axes>"
            ]
          },
          "metadata": {
            "tags": []
          }
        },
        {
          "output_type": "stream",
          "text": [
            "Image[173]: ['0.00', '0.00', '0.00', '1.00', '0.00', '0.00', '0.00', '0.00', '0.00', '0.00']\n"
          ],
          "name": "stdout"
        },
        {
          "output_type": "display_data",
          "data": {
            "image/png": "[encoded data removed]",
            "text/plain": [
              "<Figure size 432x288 with 1 Axes>"
            ]
          },
          "metadata": {
            "tags": []
          }
        }
      ]
    },
    {
      "cell_type": "code",
      "metadata": {
        "id": "NiLUQyrlXvad",
        "colab_type": "code",
        "colab": {}
      },
      "source": [
        ""
      ],
      "execution_count": 0,
      "outputs": []
    },
    {
      "cell_type": "code",
      "metadata": {
        "id": "gmVK87g2Xvwc",
        "colab_type": "code",
        "colab": {}
      },
      "source": [
        ""
      ],
      "execution_count": 0,
      "outputs": []
    },
    {
      "cell_type": "markdown",
      "metadata": {
        "id": "koxt-ch0HvvB",
        "colab_type": "text"
      },
      "source": [
        "# Temporay Testing codes in the following"
      ]
    },
    {
      "cell_type": "code",
      "metadata": {
        "id": "4LTc6sWWyHPL",
        "colab_type": "code",
        "outputId": "f7b27e98-e171-45c7-a238-597d85f5ea19",
        "colab": {
          "base_uri": "https://localhost:8080/",
          "height": 34
        }
      },
      "source": [
        "LIST = [i for i in range(9)]\n",
        "LIST"
      ],
      "execution_count": 0,
      "outputs": [
        {
          "output_type": "execute_result",
          "data": {
            "text/plain": [
              "[0, 1, 2, 3, 4, 5, 6, 7, 8]"
            ]
          },
          "metadata": {
            "tags": []
          },
          "execution_count": 27
        }
      ]
    },
    {
      "cell_type": "code",
      "metadata": {
        "id": "QJ_UjNPIWn_D",
        "colab_type": "code",
        "colab": {}
      },
      "source": [
        ""
      ],
      "execution_count": 0,
      "outputs": []
    },
    {
      "cell_type": "code",
      "metadata": {
        "id": "QCkdh6T5WpDV",
        "colab_type": "code",
        "colab": {}
      },
      "source": [
        "from IPython.display import display, Javascript\n",
        "from google.colab.output import eval_js\n",
        "from base64 import b64decode\n",
        "\n",
        "def take_photo(filename='photo.jpg', quality=0.8):\n",
        "  js = Javascript('''\n",
        "    async function takePhoto(quality) {\n",
        "      const div = document.createElement('div');\n",
        "      const capture = document.createElement('button');\n",
        "      capture.textContent = 'Capture';\n",
        "      div.appendChild(capture);\n",
        "\n",
        "      const video = document.createElement('video');\n",
        "      video.style.display = 'block';\n",
        "      const stream = await navigator.mediaDevices.getUserMedia({video: true});\n",
        "\n",
        "      document.body.appendChild(div);\n",
        "      div.appendChild(video);\n",
        "      video.srcObject = stream;\n",
        "      await video.play();\n",
        "\n",
        "      // Resize the output to fit the video element.\n",
        "      google.colab.output.setIframeHeight(document.documentElement.scrollHeight, true);\n",
        "\n",
        "      // Wait for Capture to be clicked.\n",
        "      await new Promise((resolve) => capture.onclick = resolve);\n",
        "\n",
        "      const canvas = document.createElement('canvas');\n",
        "      canvas.width = video.videoWidth;\n",
        "      canvas.height = video.videoHeight;\n",
        "      canvas.getContext('2d').drawImage(video, 0, 0);\n",
        "      stream.getVideoTracks()[0].stop();\n",
        "      div.remove();\n",
        "      return canvas.toDataURL('image/jpeg', quality);\n",
        "    }\n",
        "    ''')\n",
        "  display(js)\n",
        "  data = eval_js('takePhoto({})'.format(quality))\n",
        "  binary = b64decode(data.split(',')[1])\n",
        "  with open(filename, 'wb') as f:\n",
        "    f.write(binary)\n",
        "  return filename"
      ],
      "execution_count": 0,
      "outputs": []
    },
    {
      "cell_type": "code",
      "metadata": {
        "id": "tHgcWQF-Wo-d",
        "colab_type": "code",
        "outputId": "40bef236-e102-4503-95cf-ec484b46b39b",
        "colab": {
          "base_uri": "https://localhost:8080/",
          "height": 514
        }
      },
      "source": [
        "from IPython.display import Image\n",
        "try:\n",
        "  filename = take_photo()\n",
        "  print('Saved to {}'.format(filename))\n",
        "  \n",
        "  # Show the image which was just taken.\n",
        "  display(Image(filename))\n",
        "except Exception as err:\n",
        "  # Errors will be thrown if the user does not have a webcam or if they do not\n",
        "  # grant the page permission to access it.\n",
        "  print(str(err))"
      ],
      "execution_count": 0,
      "outputs": [
        {
          "output_type": "display_data",
          "data": {
            "application/javascript": [
              "\n",
              "    async function takePhoto(quality) {\n",
              "      const div = document.createElement('div');\n",
              "      const capture = document.createElement('button');\n",
              "      capture.textContent = 'Capture';\n",
              "      div.appendChild(capture);\n",
              "\n",
              "      const video = document.createElement('video');\n",
              "      video.style.display = 'block';\n",
              "      const stream = await navigator.mediaDevices.getUserMedia({video: true});\n",
              "\n",
              "      document.body.appendChild(div);\n",
              "      div.appendChild(video);\n",
              "      video.srcObject = stream;\n",
              "      await video.play();\n",
              "\n",
              "      // Resize the output to fit the video element.\n",
              "      google.colab.output.setIframeHeight(document.documentElement.scrollHeight, true);\n",
              "\n",
              "      // Wait for Capture to be clicked.\n",
              "      await new Promise((resolve) => capture.onclick = resolve);\n",
              "\n",
              "      const canvas = document.createElement('canvas');\n",
              "      canvas.width = video.videoWidth;\n",
              "      canvas.height = video.videoHeight;\n",
              "      canvas.getContext('2d').drawImage(video, 0, 0);\n",
              "      stream.getVideoTracks()[0].stop();\n",
              "      div.remove();\n",
              "      return canvas.toDataURL('image/jpeg', quality);\n",
              "    }\n",
              "    "
            ],
            "text/plain": [
              "<IPython.core.display.Javascript object>"
            ]
          },
          "metadata": {
            "tags": []
          }
        },
        {
          "output_type": "stream",
          "text": [
            "Saved to photo.jpg\n"
          ],
          "name": "stdout"
        },
        {
          "output_type": "display_data",
          "data": {
            "image/jpeg": "[encoded data removed]",
            "text/plain": [
              "<IPython.core.display.Image object>"
            ]
          },
          "metadata": {
            "tags": []
          }
        }
      ]
    }
  ]
}