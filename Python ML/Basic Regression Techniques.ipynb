{
 "cells": [
  {
   "cell_type": "markdown",
   "metadata": {},
   "source": [
    "## Why do we need Regression ?"
   ]
  },
  {
   "cell_type": "raw",
   "metadata": {},
   "source": [
    "Regressions are used to predicting values of a certain outcome variable using the input variables. \n",
    "Regressions also help to understand the impact of each of the input variables on the outcome variable.\n",
    "Regressions also help us to take corrective actions to prevent some future outcomes.\n",
    "For example, in the context of this problem we can ask can we predict weight using the height of individuals ? (e.g. the input variable is HEIGHT and the outcome variable is WEIGHT)\n"
   ]
  },
  {
   "cell_type": "markdown",
   "metadata": {},
   "source": [
    "### Simple Linear Regression\n",
    "Can we use HEIGHT to predict the WEIGHT of males ?\n",
    "\n",
    "Model:\n",
    "\n",
    "Weight of an individual = α + β x height of the individual\n",
    "Methodology for fitting a model:\n",
    "\n",
    "First divide the entire labelled data into 2 parts (1) Training data (2) Test data\n",
    "\n",
    "On the training data we will train our model.\n",
    "\n",
    "The trained model will then be tested on the test data.\n",
    "\n",
    "We will judge the effectiveness of our trained model on correctness of the predictions on the test data using metrics such as (a) Root Mean Squared Error (RMSE)\n"
   ]
  },
  {
   "cell_type": "code",
   "execution_count": 52,
   "metadata": {},
   "outputs": [],
   "source": [
    "import os # Importing library for operating system\n",
    "import numpy as np # Importing library to handle number arrays\n",
    "import pandas as pd # Importing library to handle data frames\n",
    "import matplotlib.pyplot as plt # Importing library for plotting\n"
   ]
  },
  {
   "cell_type": "code",
   "execution_count": 53,
   "metadata": {},
   "outputs": [],
   "source": [
    "data = pd.read_excel(\"HeightWeight.xlsx\")\n",
    "data = data.dropna()\n"
   ]
  },
  {
   "cell_type": "code",
   "execution_count": 88,
   "metadata": {},
   "outputs": [
    {
     "data": {
      "text/html": [
       "<div>\n",
       "<style scoped>\n",
       "    .dataframe tbody tr th:only-of-type {\n",
       "        vertical-align: middle;\n",
       "    }\n",
       "\n",
       "    .dataframe tbody tr th {\n",
       "        vertical-align: top;\n",
       "    }\n",
       "\n",
       "    .dataframe thead th {\n",
       "        text-align: right;\n",
       "    }\n",
       "</style>\n",
       "<table border=\"1\" class=\"dataframe\">\n",
       "  <thead>\n",
       "    <tr style=\"text-align: right;\">\n",
       "      <th></th>\n",
       "      <th>GENDER</th>\n",
       "      <th>AGE</th>\n",
       "      <th>WEIGHT</th>\n",
       "      <th>HEIGHT</th>\n",
       "      <th>MORE_THAN_SIXFOOT</th>\n",
       "      <th>LEG_LENGTH</th>\n",
       "      <th>WAIST_CIRCUMFERENCE</th>\n",
       "      <th>THIGH_CIRCUMFERENCE</th>\n",
       "      <th>BMI OVER 30</th>\n",
       "    </tr>\n",
       "  </thead>\n",
       "  <tbody>\n",
       "    <tr>\n",
       "      <th>0</th>\n",
       "      <td>2</td>\n",
       "      <td>52</td>\n",
       "      <td>231.0</td>\n",
       "      <td>63.3</td>\n",
       "      <td>0</td>\n",
       "      <td>14.2</td>\n",
       "      <td>43.6</td>\n",
       "      <td>25.8</td>\n",
       "      <td>1.0</td>\n",
       "    </tr>\n",
       "    <tr>\n",
       "      <th>1</th>\n",
       "      <td>1</td>\n",
       "      <td>75</td>\n",
       "      <td>198.0</td>\n",
       "      <td>67.0</td>\n",
       "      <td>0</td>\n",
       "      <td>15.6</td>\n",
       "      <td>41.8</td>\n",
       "      <td>20.1</td>\n",
       "      <td>1.0</td>\n",
       "    </tr>\n",
       "    <tr>\n",
       "      <th>2</th>\n",
       "      <td>2</td>\n",
       "      <td>29</td>\n",
       "      <td>155.9</td>\n",
       "      <td>63.9</td>\n",
       "      <td>0</td>\n",
       "      <td>15.7</td>\n",
       "      <td>36.0</td>\n",
       "      <td>19.2</td>\n",
       "      <td>0.0</td>\n",
       "    </tr>\n",
       "    <tr>\n",
       "      <th>3</th>\n",
       "      <td>1</td>\n",
       "      <td>18</td>\n",
       "      <td>177.7</td>\n",
       "      <td>71.2</td>\n",
       "      <td>0</td>\n",
       "      <td>18.1</td>\n",
       "      <td>33.3</td>\n",
       "      <td>22.4</td>\n",
       "      <td>0.0</td>\n",
       "    </tr>\n",
       "    <tr>\n",
       "      <th>4</th>\n",
       "      <td>1</td>\n",
       "      <td>51</td>\n",
       "      <td>225.3</td>\n",
       "      <td>69.3</td>\n",
       "      <td>0</td>\n",
       "      <td>15.6</td>\n",
       "      <td>40.0</td>\n",
       "      <td>23.0</td>\n",
       "      <td>1.0</td>\n",
       "    </tr>\n",
       "    <tr>\n",
       "      <th>5</th>\n",
       "      <td>2</td>\n",
       "      <td>21</td>\n",
       "      <td>173.1</td>\n",
       "      <td>59.1</td>\n",
       "      <td>0</td>\n",
       "      <td>13.7</td>\n",
       "      <td>38.2</td>\n",
       "      <td>23.5</td>\n",
       "      <td>1.0</td>\n",
       "    </tr>\n",
       "    <tr>\n",
       "      <th>6</th>\n",
       "      <td>2</td>\n",
       "      <td>45</td>\n",
       "      <td>149.0</td>\n",
       "      <td>65.2</td>\n",
       "      <td>0</td>\n",
       "      <td>15.4</td>\n",
       "      <td>34.8</td>\n",
       "      <td>18.3</td>\n",
       "      <td>0.0</td>\n",
       "    </tr>\n",
       "    <tr>\n",
       "      <th>7</th>\n",
       "      <td>2</td>\n",
       "      <td>72</td>\n",
       "      <td>189.4</td>\n",
       "      <td>62.6</td>\n",
       "      <td>0</td>\n",
       "      <td>11.8</td>\n",
       "      <td>44.3</td>\n",
       "      <td>20.7</td>\n",
       "      <td>1.0</td>\n",
       "    </tr>\n",
       "    <tr>\n",
       "      <th>8</th>\n",
       "      <td>2</td>\n",
       "      <td>20</td>\n",
       "      <td>171.3</td>\n",
       "      <td>67.2</td>\n",
       "      <td>0</td>\n",
       "      <td>15.9</td>\n",
       "      <td>36.1</td>\n",
       "      <td>20.1</td>\n",
       "      <td>0.0</td>\n",
       "    </tr>\n",
       "    <tr>\n",
       "      <th>9</th>\n",
       "      <td>2</td>\n",
       "      <td>72</td>\n",
       "      <td>160.7</td>\n",
       "      <td>64.0</td>\n",
       "      <td>0</td>\n",
       "      <td>13.8</td>\n",
       "      <td>39.9</td>\n",
       "      <td>19.1</td>\n",
       "      <td>0.0</td>\n",
       "    </tr>\n",
       "    <tr>\n",
       "      <th>10</th>\n",
       "      <td>2</td>\n",
       "      <td>60</td>\n",
       "      <td>190.3</td>\n",
       "      <td>72.6</td>\n",
       "      <td>1</td>\n",
       "      <td>18.9</td>\n",
       "      <td>39.2</td>\n",
       "      <td>21.8</td>\n",
       "      <td>0.0</td>\n",
       "    </tr>\n",
       "    <tr>\n",
       "      <th>11</th>\n",
       "      <td>1</td>\n",
       "      <td>35</td>\n",
       "      <td>212.1</td>\n",
       "      <td>69.3</td>\n",
       "      <td>0</td>\n",
       "      <td>18.1</td>\n",
       "      <td>41.6</td>\n",
       "      <td>24.2</td>\n",
       "      <td>1.0</td>\n",
       "    </tr>\n",
       "    <tr>\n",
       "      <th>12</th>\n",
       "      <td>2</td>\n",
       "      <td>35</td>\n",
       "      <td>231.0</td>\n",
       "      <td>63.5</td>\n",
       "      <td>0</td>\n",
       "      <td>16.5</td>\n",
       "      <td>46.1</td>\n",
       "      <td>27.6</td>\n",
       "      <td>1.0</td>\n",
       "    </tr>\n",
       "    <tr>\n",
       "      <th>13</th>\n",
       "      <td>1</td>\n",
       "      <td>71</td>\n",
       "      <td>173.1</td>\n",
       "      <td>70.5</td>\n",
       "      <td>0</td>\n",
       "      <td>15.7</td>\n",
       "      <td>36.7</td>\n",
       "      <td>17.8</td>\n",
       "      <td>0.0</td>\n",
       "    </tr>\n",
       "    <tr>\n",
       "      <th>14</th>\n",
       "      <td>1</td>\n",
       "      <td>32</td>\n",
       "      <td>222.2</td>\n",
       "      <td>73.9</td>\n",
       "      <td>1</td>\n",
       "      <td>17.1</td>\n",
       "      <td>39.9</td>\n",
       "      <td>23.6</td>\n",
       "      <td>0.0</td>\n",
       "    </tr>\n",
       "    <tr>\n",
       "      <th>15</th>\n",
       "      <td>1</td>\n",
       "      <td>71</td>\n",
       "      <td>205.7</td>\n",
       "      <td>66.1</td>\n",
       "      <td>0</td>\n",
       "      <td>15.3</td>\n",
       "      <td>47.4</td>\n",
       "      <td>21.1</td>\n",
       "      <td>1.0</td>\n",
       "    </tr>\n",
       "    <tr>\n",
       "      <th>16</th>\n",
       "      <td>2</td>\n",
       "      <td>23</td>\n",
       "      <td>141.3</td>\n",
       "      <td>65.3</td>\n",
       "      <td>0</td>\n",
       "      <td>16.1</td>\n",
       "      <td>33.8</td>\n",
       "      <td>21.0</td>\n",
       "      <td>0.0</td>\n",
       "    </tr>\n",
       "    <tr>\n",
       "      <th>17</th>\n",
       "      <td>1</td>\n",
       "      <td>29</td>\n",
       "      <td>167.3</td>\n",
       "      <td>68.8</td>\n",
       "      <td>0</td>\n",
       "      <td>16.6</td>\n",
       "      <td>34.9</td>\n",
       "      <td>21.9</td>\n",
       "      <td>0.0</td>\n",
       "    </tr>\n",
       "    <tr>\n",
       "      <th>18</th>\n",
       "      <td>1</td>\n",
       "      <td>50</td>\n",
       "      <td>160.1</td>\n",
       "      <td>68.3</td>\n",
       "      <td>0</td>\n",
       "      <td>17.6</td>\n",
       "      <td>36.0</td>\n",
       "      <td>19.1</td>\n",
       "      <td>0.0</td>\n",
       "    </tr>\n",
       "    <tr>\n",
       "      <th>19</th>\n",
       "      <td>2</td>\n",
       "      <td>28</td>\n",
       "      <td>151.9</td>\n",
       "      <td>64.7</td>\n",
       "      <td>0</td>\n",
       "      <td>15.6</td>\n",
       "      <td>35.0</td>\n",
       "      <td>21.3</td>\n",
       "      <td>0.0</td>\n",
       "    </tr>\n",
       "    <tr>\n",
       "      <th>20</th>\n",
       "      <td>1</td>\n",
       "      <td>52</td>\n",
       "      <td>242.9</td>\n",
       "      <td>68.7</td>\n",
       "      <td>0</td>\n",
       "      <td>15.9</td>\n",
       "      <td>48.5</td>\n",
       "      <td>22.9</td>\n",
       "      <td>1.0</td>\n",
       "    </tr>\n",
       "    <tr>\n",
       "      <th>21</th>\n",
       "      <td>1</td>\n",
       "      <td>54</td>\n",
       "      <td>166.0</td>\n",
       "      <td>65.7</td>\n",
       "      <td>0</td>\n",
       "      <td>15.0</td>\n",
       "      <td>37.4</td>\n",
       "      <td>19.5</td>\n",
       "      <td>0.0</td>\n",
       "    </tr>\n",
       "    <tr>\n",
       "      <th>22</th>\n",
       "      <td>1</td>\n",
       "      <td>32</td>\n",
       "      <td>181.2</td>\n",
       "      <td>68.3</td>\n",
       "      <td>0</td>\n",
       "      <td>16.4</td>\n",
       "      <td>36.2</td>\n",
       "      <td>21.2</td>\n",
       "      <td>0.0</td>\n",
       "    </tr>\n",
       "    <tr>\n",
       "      <th>23</th>\n",
       "      <td>1</td>\n",
       "      <td>63</td>\n",
       "      <td>144.8</td>\n",
       "      <td>65.9</td>\n",
       "      <td>0</td>\n",
       "      <td>15.8</td>\n",
       "      <td>36.7</td>\n",
       "      <td>18.3</td>\n",
       "      <td>0.0</td>\n",
       "    </tr>\n",
       "    <tr>\n",
       "      <th>24</th>\n",
       "      <td>1</td>\n",
       "      <td>30</td>\n",
       "      <td>184.3</td>\n",
       "      <td>69.4</td>\n",
       "      <td>0</td>\n",
       "      <td>16.0</td>\n",
       "      <td>37.3</td>\n",
       "      <td>20.9</td>\n",
       "      <td>0.0</td>\n",
       "    </tr>\n",
       "    <tr>\n",
       "      <th>25</th>\n",
       "      <td>2</td>\n",
       "      <td>43</td>\n",
       "      <td>98.1</td>\n",
       "      <td>59.9</td>\n",
       "      <td>0</td>\n",
       "      <td>15.0</td>\n",
       "      <td>26.3</td>\n",
       "      <td>17.8</td>\n",
       "      <td>0.0</td>\n",
       "    </tr>\n",
       "    <tr>\n",
       "      <th>26</th>\n",
       "      <td>2</td>\n",
       "      <td>48</td>\n",
       "      <td>225.8</td>\n",
       "      <td>64.3</td>\n",
       "      <td>0</td>\n",
       "      <td>14.4</td>\n",
       "      <td>45.8</td>\n",
       "      <td>24.6</td>\n",
       "      <td>1.0</td>\n",
       "    </tr>\n",
       "    <tr>\n",
       "      <th>27</th>\n",
       "      <td>1</td>\n",
       "      <td>73</td>\n",
       "      <td>127.4</td>\n",
       "      <td>65.0</td>\n",
       "      <td>0</td>\n",
       "      <td>17.2</td>\n",
       "      <td>33.2</td>\n",
       "      <td>16.7</td>\n",
       "      <td>0.0</td>\n",
       "    </tr>\n",
       "    <tr>\n",
       "      <th>28</th>\n",
       "      <td>2</td>\n",
       "      <td>41</td>\n",
       "      <td>179.9</td>\n",
       "      <td>64.2</td>\n",
       "      <td>0</td>\n",
       "      <td>16.1</td>\n",
       "      <td>38.6</td>\n",
       "      <td>22.5</td>\n",
       "      <td>1.0</td>\n",
       "    </tr>\n",
       "    <tr>\n",
       "      <th>29</th>\n",
       "      <td>2</td>\n",
       "      <td>38</td>\n",
       "      <td>303.4</td>\n",
       "      <td>66.3</td>\n",
       "      <td>0</td>\n",
       "      <td>17.0</td>\n",
       "      <td>56.4</td>\n",
       "      <td>30.5</td>\n",
       "      <td>1.0</td>\n",
       "    </tr>\n",
       "    <tr>\n",
       "      <th>...</th>\n",
       "      <td>...</td>\n",
       "      <td>...</td>\n",
       "      <td>...</td>\n",
       "      <td>...</td>\n",
       "      <td>...</td>\n",
       "      <td>...</td>\n",
       "      <td>...</td>\n",
       "      <td>...</td>\n",
       "      <td>...</td>\n",
       "    </tr>\n",
       "    <tr>\n",
       "      <th>69</th>\n",
       "      <td>1</td>\n",
       "      <td>84</td>\n",
       "      <td>106.0</td>\n",
       "      <td>63.1</td>\n",
       "      <td>0</td>\n",
       "      <td>14.2</td>\n",
       "      <td>28.7</td>\n",
       "      <td>15.0</td>\n",
       "      <td>0.0</td>\n",
       "    </tr>\n",
       "    <tr>\n",
       "      <th>70</th>\n",
       "      <td>2</td>\n",
       "      <td>51</td>\n",
       "      <td>209.2</td>\n",
       "      <td>69.2</td>\n",
       "      <td>0</td>\n",
       "      <td>16.0</td>\n",
       "      <td>42.0</td>\n",
       "      <td>22.4</td>\n",
       "      <td>1.0</td>\n",
       "    </tr>\n",
       "    <tr>\n",
       "      <th>71</th>\n",
       "      <td>1</td>\n",
       "      <td>66</td>\n",
       "      <td>215.8</td>\n",
       "      <td>74.7</td>\n",
       "      <td>1</td>\n",
       "      <td>19.0</td>\n",
       "      <td>45.8</td>\n",
       "      <td>19.9</td>\n",
       "      <td>0.0</td>\n",
       "    </tr>\n",
       "    <tr>\n",
       "      <th>72</th>\n",
       "      <td>1</td>\n",
       "      <td>47</td>\n",
       "      <td>165.3</td>\n",
       "      <td>65.5</td>\n",
       "      <td>0</td>\n",
       "      <td>16.9</td>\n",
       "      <td>37.8</td>\n",
       "      <td>19.8</td>\n",
       "      <td>0.0</td>\n",
       "    </tr>\n",
       "    <tr>\n",
       "      <th>73</th>\n",
       "      <td>2</td>\n",
       "      <td>44</td>\n",
       "      <td>212.1</td>\n",
       "      <td>65.9</td>\n",
       "      <td>0</td>\n",
       "      <td>15.6</td>\n",
       "      <td>41.2</td>\n",
       "      <td>25.4</td>\n",
       "      <td>1.0</td>\n",
       "    </tr>\n",
       "    <tr>\n",
       "      <th>74</th>\n",
       "      <td>2</td>\n",
       "      <td>77</td>\n",
       "      <td>167.3</td>\n",
       "      <td>64.1</td>\n",
       "      <td>0</td>\n",
       "      <td>14.6</td>\n",
       "      <td>42.3</td>\n",
       "      <td>19.0</td>\n",
       "      <td>0.0</td>\n",
       "    </tr>\n",
       "    <tr>\n",
       "      <th>75</th>\n",
       "      <td>2</td>\n",
       "      <td>21</td>\n",
       "      <td>246.0</td>\n",
       "      <td>68.4</td>\n",
       "      <td>0</td>\n",
       "      <td>20.0</td>\n",
       "      <td>48.4</td>\n",
       "      <td>27.2</td>\n",
       "      <td>1.0</td>\n",
       "    </tr>\n",
       "    <tr>\n",
       "      <th>76</th>\n",
       "      <td>1</td>\n",
       "      <td>18</td>\n",
       "      <td>233.7</td>\n",
       "      <td>71.9</td>\n",
       "      <td>0</td>\n",
       "      <td>17.7</td>\n",
       "      <td>40.6</td>\n",
       "      <td>25.6</td>\n",
       "      <td>1.0</td>\n",
       "    </tr>\n",
       "    <tr>\n",
       "      <th>77</th>\n",
       "      <td>1</td>\n",
       "      <td>70</td>\n",
       "      <td>200.2</td>\n",
       "      <td>70.7</td>\n",
       "      <td>0</td>\n",
       "      <td>18.1</td>\n",
       "      <td>41.0</td>\n",
       "      <td>20.2</td>\n",
       "      <td>0.0</td>\n",
       "    </tr>\n",
       "    <tr>\n",
       "      <th>78</th>\n",
       "      <td>2</td>\n",
       "      <td>18</td>\n",
       "      <td>151.0</td>\n",
       "      <td>62.1</td>\n",
       "      <td>0</td>\n",
       "      <td>14.6</td>\n",
       "      <td>0.0</td>\n",
       "      <td>20.3</td>\n",
       "      <td>0.0</td>\n",
       "    </tr>\n",
       "    <tr>\n",
       "      <th>79</th>\n",
       "      <td>2</td>\n",
       "      <td>45</td>\n",
       "      <td>159.0</td>\n",
       "      <td>60.7</td>\n",
       "      <td>0</td>\n",
       "      <td>15.6</td>\n",
       "      <td>35.3</td>\n",
       "      <td>20.9</td>\n",
       "      <td>1.0</td>\n",
       "    </tr>\n",
       "    <tr>\n",
       "      <th>80</th>\n",
       "      <td>1</td>\n",
       "      <td>78</td>\n",
       "      <td>125.9</td>\n",
       "      <td>63.5</td>\n",
       "      <td>0</td>\n",
       "      <td>16.6</td>\n",
       "      <td>33.2</td>\n",
       "      <td>17.3</td>\n",
       "      <td>0.0</td>\n",
       "    </tr>\n",
       "    <tr>\n",
       "      <th>81</th>\n",
       "      <td>1</td>\n",
       "      <td>19</td>\n",
       "      <td>159.0</td>\n",
       "      <td>69.5</td>\n",
       "      <td>0</td>\n",
       "      <td>17.3</td>\n",
       "      <td>33.0</td>\n",
       "      <td>19.3</td>\n",
       "      <td>0.0</td>\n",
       "    </tr>\n",
       "    <tr>\n",
       "      <th>82</th>\n",
       "      <td>2</td>\n",
       "      <td>34</td>\n",
       "      <td>164.9</td>\n",
       "      <td>62.8</td>\n",
       "      <td>0</td>\n",
       "      <td>15.8</td>\n",
       "      <td>38.3</td>\n",
       "      <td>22.5</td>\n",
       "      <td>0.0</td>\n",
       "    </tr>\n",
       "    <tr>\n",
       "      <th>83</th>\n",
       "      <td>2</td>\n",
       "      <td>67</td>\n",
       "      <td>154.1</td>\n",
       "      <td>62.9</td>\n",
       "      <td>0</td>\n",
       "      <td>14.6</td>\n",
       "      <td>36.7</td>\n",
       "      <td>20.7</td>\n",
       "      <td>0.0</td>\n",
       "    </tr>\n",
       "    <tr>\n",
       "      <th>84</th>\n",
       "      <td>2</td>\n",
       "      <td>39</td>\n",
       "      <td>119.0</td>\n",
       "      <td>63.8</td>\n",
       "      <td>0</td>\n",
       "      <td>15.6</td>\n",
       "      <td>30.0</td>\n",
       "      <td>18.1</td>\n",
       "      <td>0.0</td>\n",
       "    </tr>\n",
       "    <tr>\n",
       "      <th>85</th>\n",
       "      <td>2</td>\n",
       "      <td>68</td>\n",
       "      <td>138.9</td>\n",
       "      <td>63.7</td>\n",
       "      <td>0</td>\n",
       "      <td>15.3</td>\n",
       "      <td>34.1</td>\n",
       "      <td>19.4</td>\n",
       "      <td>0.0</td>\n",
       "    </tr>\n",
       "    <tr>\n",
       "      <th>86</th>\n",
       "      <td>2</td>\n",
       "      <td>39</td>\n",
       "      <td>128.5</td>\n",
       "      <td>61.3</td>\n",
       "      <td>0</td>\n",
       "      <td>15.0</td>\n",
       "      <td>32.9</td>\n",
       "      <td>19.3</td>\n",
       "      <td>0.0</td>\n",
       "    </tr>\n",
       "    <tr>\n",
       "      <th>87</th>\n",
       "      <td>2</td>\n",
       "      <td>56</td>\n",
       "      <td>226.0</td>\n",
       "      <td>64.2</td>\n",
       "      <td>0</td>\n",
       "      <td>15.3</td>\n",
       "      <td>48.7</td>\n",
       "      <td>28.2</td>\n",
       "      <td>1.0</td>\n",
       "    </tr>\n",
       "    <tr>\n",
       "      <th>88</th>\n",
       "      <td>1</td>\n",
       "      <td>20</td>\n",
       "      <td>143.1</td>\n",
       "      <td>68.3</td>\n",
       "      <td>0</td>\n",
       "      <td>17.1</td>\n",
       "      <td>31.0</td>\n",
       "      <td>20.0</td>\n",
       "      <td>0.0</td>\n",
       "    </tr>\n",
       "    <tr>\n",
       "      <th>89</th>\n",
       "      <td>1</td>\n",
       "      <td>76</td>\n",
       "      <td>159.4</td>\n",
       "      <td>64.4</td>\n",
       "      <td>0</td>\n",
       "      <td>14.2</td>\n",
       "      <td>38.2</td>\n",
       "      <td>18.2</td>\n",
       "      <td>0.0</td>\n",
       "    </tr>\n",
       "    <tr>\n",
       "      <th>90</th>\n",
       "      <td>2</td>\n",
       "      <td>51</td>\n",
       "      <td>120.8</td>\n",
       "      <td>67.7</td>\n",
       "      <td>0</td>\n",
       "      <td>16.8</td>\n",
       "      <td>29.4</td>\n",
       "      <td>19.0</td>\n",
       "      <td>0.0</td>\n",
       "    </tr>\n",
       "    <tr>\n",
       "      <th>91</th>\n",
       "      <td>2</td>\n",
       "      <td>82</td>\n",
       "      <td>121.3</td>\n",
       "      <td>64.1</td>\n",
       "      <td>0</td>\n",
       "      <td>15.2</td>\n",
       "      <td>0.0</td>\n",
       "      <td>0.0</td>\n",
       "      <td>0.0</td>\n",
       "    </tr>\n",
       "    <tr>\n",
       "      <th>92</th>\n",
       "      <td>1</td>\n",
       "      <td>25</td>\n",
       "      <td>166.4</td>\n",
       "      <td>77.0</td>\n",
       "      <td>1</td>\n",
       "      <td>19.1</td>\n",
       "      <td>30.0</td>\n",
       "      <td>19.2</td>\n",
       "      <td>0.0</td>\n",
       "    </tr>\n",
       "    <tr>\n",
       "      <th>93</th>\n",
       "      <td>2</td>\n",
       "      <td>53</td>\n",
       "      <td>116.6</td>\n",
       "      <td>60.8</td>\n",
       "      <td>0</td>\n",
       "      <td>0.0</td>\n",
       "      <td>0.0</td>\n",
       "      <td>0.0</td>\n",
       "      <td>0.0</td>\n",
       "    </tr>\n",
       "    <tr>\n",
       "      <th>94</th>\n",
       "      <td>2</td>\n",
       "      <td>43</td>\n",
       "      <td>176.8</td>\n",
       "      <td>63.9</td>\n",
       "      <td>0</td>\n",
       "      <td>15.7</td>\n",
       "      <td>42.7</td>\n",
       "      <td>21.1</td>\n",
       "      <td>1.0</td>\n",
       "    </tr>\n",
       "    <tr>\n",
       "      <th>95</th>\n",
       "      <td>1</td>\n",
       "      <td>64</td>\n",
       "      <td>220.7</td>\n",
       "      <td>67.6</td>\n",
       "      <td>0</td>\n",
       "      <td>15.5</td>\n",
       "      <td>45.2</td>\n",
       "      <td>21.1</td>\n",
       "      <td>1.0</td>\n",
       "    </tr>\n",
       "    <tr>\n",
       "      <th>97</th>\n",
       "      <td>2</td>\n",
       "      <td>55</td>\n",
       "      <td>174.4</td>\n",
       "      <td>72.7</td>\n",
       "      <td>1</td>\n",
       "      <td>17.5</td>\n",
       "      <td>34.3</td>\n",
       "      <td>20.7</td>\n",
       "      <td>0.0</td>\n",
       "    </tr>\n",
       "    <tr>\n",
       "      <th>98</th>\n",
       "      <td>2</td>\n",
       "      <td>19</td>\n",
       "      <td>129.2</td>\n",
       "      <td>68.5</td>\n",
       "      <td>0</td>\n",
       "      <td>17.7</td>\n",
       "      <td>28.5</td>\n",
       "      <td>18.7</td>\n",
       "      <td>0.0</td>\n",
       "    </tr>\n",
       "    <tr>\n",
       "      <th>99</th>\n",
       "      <td>2</td>\n",
       "      <td>18</td>\n",
       "      <td>104.5</td>\n",
       "      <td>61.5</td>\n",
       "      <td>0</td>\n",
       "      <td>14.1</td>\n",
       "      <td>26.2</td>\n",
       "      <td>16.5</td>\n",
       "      <td>0.0</td>\n",
       "    </tr>\n",
       "  </tbody>\n",
       "</table>\n",
       "<p>99 rows × 9 columns</p>\n",
       "</div>"
      ],
      "text/plain": [
       "    GENDER  AGE  WEIGHT  HEIGHT  MORE_THAN_SIXFOOT  LEG_LENGTH  \\\n",
       "0        2   52   231.0    63.3                  0        14.2   \n",
       "1        1   75   198.0    67.0                  0        15.6   \n",
       "2        2   29   155.9    63.9                  0        15.7   \n",
       "3        1   18   177.7    71.2                  0        18.1   \n",
       "4        1   51   225.3    69.3                  0        15.6   \n",
       "5        2   21   173.1    59.1                  0        13.7   \n",
       "6        2   45   149.0    65.2                  0        15.4   \n",
       "7        2   72   189.4    62.6                  0        11.8   \n",
       "8        2   20   171.3    67.2                  0        15.9   \n",
       "9        2   72   160.7    64.0                  0        13.8   \n",
       "10       2   60   190.3    72.6                  1        18.9   \n",
       "11       1   35   212.1    69.3                  0        18.1   \n",
       "12       2   35   231.0    63.5                  0        16.5   \n",
       "13       1   71   173.1    70.5                  0        15.7   \n",
       "14       1   32   222.2    73.9                  1        17.1   \n",
       "15       1   71   205.7    66.1                  0        15.3   \n",
       "16       2   23   141.3    65.3                  0        16.1   \n",
       "17       1   29   167.3    68.8                  0        16.6   \n",
       "18       1   50   160.1    68.3                  0        17.6   \n",
       "19       2   28   151.9    64.7                  0        15.6   \n",
       "20       1   52   242.9    68.7                  0        15.9   \n",
       "21       1   54   166.0    65.7                  0        15.0   \n",
       "22       1   32   181.2    68.3                  0        16.4   \n",
       "23       1   63   144.8    65.9                  0        15.8   \n",
       "24       1   30   184.3    69.4                  0        16.0   \n",
       "25       2   43    98.1    59.9                  0        15.0   \n",
       "26       2   48   225.8    64.3                  0        14.4   \n",
       "27       1   73   127.4    65.0                  0        17.2   \n",
       "28       2   41   179.9    64.2                  0        16.1   \n",
       "29       2   38   303.4    66.3                  0        17.0   \n",
       "..     ...  ...     ...     ...                ...         ...   \n",
       "69       1   84   106.0    63.1                  0        14.2   \n",
       "70       2   51   209.2    69.2                  0        16.0   \n",
       "71       1   66   215.8    74.7                  1        19.0   \n",
       "72       1   47   165.3    65.5                  0        16.9   \n",
       "73       2   44   212.1    65.9                  0        15.6   \n",
       "74       2   77   167.3    64.1                  0        14.6   \n",
       "75       2   21   246.0    68.4                  0        20.0   \n",
       "76       1   18   233.7    71.9                  0        17.7   \n",
       "77       1   70   200.2    70.7                  0        18.1   \n",
       "78       2   18   151.0    62.1                  0        14.6   \n",
       "79       2   45   159.0    60.7                  0        15.6   \n",
       "80       1   78   125.9    63.5                  0        16.6   \n",
       "81       1   19   159.0    69.5                  0        17.3   \n",
       "82       2   34   164.9    62.8                  0        15.8   \n",
       "83       2   67   154.1    62.9                  0        14.6   \n",
       "84       2   39   119.0    63.8                  0        15.6   \n",
       "85       2   68   138.9    63.7                  0        15.3   \n",
       "86       2   39   128.5    61.3                  0        15.0   \n",
       "87       2   56   226.0    64.2                  0        15.3   \n",
       "88       1   20   143.1    68.3                  0        17.1   \n",
       "89       1   76   159.4    64.4                  0        14.2   \n",
       "90       2   51   120.8    67.7                  0        16.8   \n",
       "91       2   82   121.3    64.1                  0        15.2   \n",
       "92       1   25   166.4    77.0                  1        19.1   \n",
       "93       2   53   116.6    60.8                  0         0.0   \n",
       "94       2   43   176.8    63.9                  0        15.7   \n",
       "95       1   64   220.7    67.6                  0        15.5   \n",
       "97       2   55   174.4    72.7                  1        17.5   \n",
       "98       2   19   129.2    68.5                  0        17.7   \n",
       "99       2   18   104.5    61.5                  0        14.1   \n",
       "\n",
       "    WAIST_CIRCUMFERENCE  THIGH_CIRCUMFERENCE  BMI OVER 30  \n",
       "0                  43.6                 25.8          1.0  \n",
       "1                  41.8                 20.1          1.0  \n",
       "2                  36.0                 19.2          0.0  \n",
       "3                  33.3                 22.4          0.0  \n",
       "4                  40.0                 23.0          1.0  \n",
       "5                  38.2                 23.5          1.0  \n",
       "6                  34.8                 18.3          0.0  \n",
       "7                  44.3                 20.7          1.0  \n",
       "8                  36.1                 20.1          0.0  \n",
       "9                  39.9                 19.1          0.0  \n",
       "10                 39.2                 21.8          0.0  \n",
       "11                 41.6                 24.2          1.0  \n",
       "12                 46.1                 27.6          1.0  \n",
       "13                 36.7                 17.8          0.0  \n",
       "14                 39.9                 23.6          0.0  \n",
       "15                 47.4                 21.1          1.0  \n",
       "16                 33.8                 21.0          0.0  \n",
       "17                 34.9                 21.9          0.0  \n",
       "18                 36.0                 19.1          0.0  \n",
       "19                 35.0                 21.3          0.0  \n",
       "20                 48.5                 22.9          1.0  \n",
       "21                 37.4                 19.5          0.0  \n",
       "22                 36.2                 21.2          0.0  \n",
       "23                 36.7                 18.3          0.0  \n",
       "24                 37.3                 20.9          0.0  \n",
       "25                 26.3                 17.8          0.0  \n",
       "26                 45.8                 24.6          1.0  \n",
       "27                 33.2                 16.7          0.0  \n",
       "28                 38.6                 22.5          1.0  \n",
       "29                 56.4                 30.5          1.0  \n",
       "..                  ...                  ...          ...  \n",
       "69                 28.7                 15.0          0.0  \n",
       "70                 42.0                 22.4          1.0  \n",
       "71                 45.8                 19.9          0.0  \n",
       "72                 37.8                 19.8          0.0  \n",
       "73                 41.2                 25.4          1.0  \n",
       "74                 42.3                 19.0          0.0  \n",
       "75                 48.4                 27.2          1.0  \n",
       "76                 40.6                 25.6          1.0  \n",
       "77                 41.0                 20.2          0.0  \n",
       "78                  0.0                 20.3          0.0  \n",
       "79                 35.3                 20.9          1.0  \n",
       "80                 33.2                 17.3          0.0  \n",
       "81                 33.0                 19.3          0.0  \n",
       "82                 38.3                 22.5          0.0  \n",
       "83                 36.7                 20.7          0.0  \n",
       "84                 30.0                 18.1          0.0  \n",
       "85                 34.1                 19.4          0.0  \n",
       "86                 32.9                 19.3          0.0  \n",
       "87                 48.7                 28.2          1.0  \n",
       "88                 31.0                 20.0          0.0  \n",
       "89                 38.2                 18.2          0.0  \n",
       "90                 29.4                 19.0          0.0  \n",
       "91                  0.0                  0.0          0.0  \n",
       "92                 30.0                 19.2          0.0  \n",
       "93                  0.0                  0.0          0.0  \n",
       "94                 42.7                 21.1          1.0  \n",
       "95                 45.2                 21.1          1.0  \n",
       "97                 34.3                 20.7          0.0  \n",
       "98                 28.5                 18.7          0.0  \n",
       "99                 26.2                 16.5          0.0  \n",
       "\n",
       "[99 rows x 9 columns]"
      ]
     },
     "execution_count": 88,
     "metadata": {},
     "output_type": "execute_result"
    }
   ],
   "source": [
    "data"
   ]
  },
  {
   "cell_type": "code",
   "execution_count": 54,
   "metadata": {},
   "outputs": [],
   "source": [
    "##Simple Linear Regression – Splitting the data"
   ]
  },
  {
   "cell_type": "code",
   "execution_count": 55,
   "metadata": {},
   "outputs": [],
   "source": [
    "from sklearn import linear_model\n",
    "from sklearn.metrics import mean_squared_error\n"
   ]
  },
  {
   "cell_type": "code",
   "execution_count": 56,
   "metadata": {},
   "outputs": [],
   "source": [
    "## Creating training dataset"
   ]
  },
  {
   "cell_type": "code",
   "execution_count": 57,
   "metadata": {},
   "outputs": [],
   "source": [
    "data_male = data[data['GENDER']==1]\n",
    "data_male_deletedOutliers = data_male[data_male['HEIGHT'] < 76]\n",
    "data_male_deletedOutliers = data_male_deletedOutliers[data_male_deletedOutliers['WEIGHT']<300]\n"
   ]
  },
  {
   "cell_type": "code",
   "execution_count": 58,
   "metadata": {},
   "outputs": [],
   "source": [
    "data_male_deletedOutliers_train_HEIGHT = data_male_deletedOutliers['HEIGHT'][:-10]\n",
    "data_male_deletedOutliers_train_WEIGHT = data_male_deletedOutliers['WEIGHT'][:-10]\n"
   ]
  },
  {
   "cell_type": "code",
   "execution_count": 59,
   "metadata": {},
   "outputs": [],
   "source": [
    "## Creating test dataset"
   ]
  },
  {
   "cell_type": "code",
   "execution_count": 60,
   "metadata": {},
   "outputs": [],
   "source": [
    "data_male_deletedOutliers_test_HEIGHT = data_male_deletedOutliers['HEIGHT'][-10:]\n",
    "data_male_deletedOutliers_test_WEIGHT = data_male_deletedOutliers['WEIGHT'][-10:]\n"
   ]
  },
  {
   "cell_type": "code",
   "execution_count": 61,
   "metadata": {},
   "outputs": [
    {
     "name": "stdout",
     "output_type": "stream",
     "text": [
      "1     67.0\n",
      "3     71.2\n",
      "4     69.3\n",
      "11    69.3\n",
      "13    70.5\n",
      "14    73.9\n",
      "15    66.1\n",
      "17    68.8\n",
      "18    68.3\n",
      "20    68.7\n",
      "21    65.7\n",
      "22    68.3\n",
      "23    65.9\n",
      "24    69.4\n",
      "27    65.0\n",
      "36    69.9\n",
      "38    68.7\n",
      "39    73.4\n",
      "48    67.2\n",
      "50    63.5\n",
      "51    70.1\n",
      "54    68.5\n",
      "57    67.2\n",
      "58    68.3\n",
      "59    69.9\n",
      "60    66.7\n",
      "65    70.1\n",
      "66    72.4\n",
      "Name: HEIGHT, dtype: float64\n"
     ]
    }
   ],
   "source": [
    "print(data_male_deletedOutliers_train_HEIGHT)\n",
    "\n"
   ]
  },
  {
   "cell_type": "code",
   "execution_count": 62,
   "metadata": {},
   "outputs": [
    {
     "name": "stdout",
     "output_type": "stream",
     "text": [
      "1     198.0\n",
      "3     177.7\n",
      "4     225.3\n",
      "11    212.1\n",
      "13    173.1\n",
      "14    222.2\n",
      "15    205.7\n",
      "17    167.3\n",
      "18    160.1\n",
      "20    242.9\n",
      "21    166.0\n",
      "22    181.2\n",
      "23    144.8\n",
      "24    184.3\n",
      "27    127.4\n",
      "36    193.3\n",
      "38    155.6\n",
      "39    220.5\n",
      "48    129.4\n",
      "50    143.5\n",
      "51    150.6\n",
      "54    199.7\n",
      "57    159.2\n",
      "58    224.2\n",
      "59    136.0\n",
      "60    164.2\n",
      "65    222.7\n",
      "66    183.2\n",
      "Name: WEIGHT, dtype: float64\n"
     ]
    }
   ],
   "source": [
    "print(data_male_deletedOutliers_train_WEIGHT)\n"
   ]
  },
  {
   "cell_type": "markdown",
   "metadata": {},
   "source": [
    "## Simple Linear Regression – Fitting linear regression"
   ]
  },
  {
   "cell_type": "code",
   "execution_count": 63,
   "metadata": {},
   "outputs": [],
   "source": [
    "## Create linear regression object"
   ]
  },
  {
   "cell_type": "code",
   "execution_count": 64,
   "metadata": {},
   "outputs": [],
   "source": [
    "regr = linear_model.LinearRegression()"
   ]
  },
  {
   "cell_type": "code",
   "execution_count": 65,
   "metadata": {},
   "outputs": [],
   "source": [
    "## Train the model using the training sets"
   ]
  },
  {
   "cell_type": "code",
   "execution_count": 68,
   "metadata": {},
   "outputs": [
    {
     "data": {
      "text/plain": [
       "LinearRegression(copy_X=True, fit_intercept=True, n_jobs=None,\n",
       "         normalize=False)"
      ]
     },
     "execution_count": 68,
     "metadata": {},
     "output_type": "execute_result"
    }
   ],
   "source": [
    "regr.fit(data_male_deletedOutliers_train_HEIGHT.values.reshape(-1,1),data_male_deletedOutliers_train_WEIGHT.values.reshape(-1,1))\n"
   ]
  },
  {
   "cell_type": "code",
   "execution_count": 69,
   "metadata": {},
   "outputs": [],
   "source": [
    "## Make predictions using the testing set"
   ]
  },
  {
   "cell_type": "code",
   "execution_count": 71,
   "metadata": {},
   "outputs": [],
   "source": [
    "data_males_WEIGHT_predicted = regr.predict(data_male_deletedOutliers_test_HEIGHT.values.reshape(-1,1))\n"
   ]
  },
  {
   "cell_type": "code",
   "execution_count": 72,
   "metadata": {},
   "outputs": [],
   "source": [
    "## Make plots of predicted Weight and Actual Weight for the test data"
   ]
  },
  {
   "cell_type": "code",
   "execution_count": 74,
   "metadata": {},
   "outputs": [
    {
     "data": {
      "image/png": "[encoded data removed]",
      "text/plain": [
       "<Figure size 432x288 with 1 Axes>"
      ]
     },
     "metadata": {},
     "output_type": "display_data"
    }
   ],
   "source": [
    "plt.scatter(data_male_deletedOutliers_test_HEIGHT, data_male_deletedOutliers_test_WEIGHT,  color='black')\n",
    "plt.plot(data_male_deletedOutliers_test_HEIGHT, data_males_WEIGHT_predicted, color='blue', linewidth=3)\n",
    "\n",
    "plt.xticks(())\n",
    "plt.yticks(())\n",
    "\n",
    "plt.xlabel(\"Height\")\n",
    "plt.ylabel(\"Weight\")\n",
    "plt.show()\n"
   ]
  },
  {
   "cell_type": "code",
   "execution_count": 75,
   "metadata": {},
   "outputs": [
    {
     "data": {
      "image/png": "[encoded data removed]",
      "text/plain": [
       "<Figure size 432x288 with 1 Axes>"
      ]
     },
     "metadata": {},
     "output_type": "display_data"
    }
   ],
   "source": [
    "plt.scatter(data_male_deletedOutliers_test_HEIGHT, data_male_deletedOutliers_test_WEIGHT,  color='black')\n",
    "plt.plot(data_male_deletedOutliers_test_HEIGHT, data_males_WEIGHT_predicted, color='blue', linewidth=3)\n",
    "\n",
    "plt.xticks(())\n",
    "plt.yticks(())\n",
    "\n",
    "plt.xlabel(\"Height\")\n",
    "plt.ylabel(\"Weight\")\n",
    "plt.grid()\n",
    "plt.show()\n"
   ]
  },
  {
   "cell_type": "raw",
   "metadata": {},
   "source": [
    "Weight of an individual = -251.44 + 6.296 x height of the individua"
   ]
  },
  {
   "cell_type": "code",
   "execution_count": 76,
   "metadata": {},
   "outputs": [
    {
     "name": "stdout",
     "output_type": "stream",
     "text": [
      "Root Mean squared error: 27.22\n"
     ]
    }
   ],
   "source": [
    "print(\"Root Mean squared error: %.2f\"\n",
    "      % np.sqrt(mean_squared_error(data_male_deletedOutliers_test_WEIGHT, data_males_WEIGHT_predicted)))\n"
   ]
  },
  {
   "cell_type": "raw",
   "metadata": {},
   "source": [
    "What is the predicted weight when height is 68 inches ?\n"
   ]
  },
  {
   "cell_type": "markdown",
   "metadata": {},
   "source": [
    "## Linear Regression"
   ]
  },
  {
   "cell_type": "code",
   "execution_count": 81,
   "metadata": {},
   "outputs": [],
   "source": [
    "##Can we determine the weight of females using all the variables in the dataset (except BMI over 30) ?\n"
   ]
  },
  {
   "cell_type": "raw",
   "metadata": {},
   "source": [
    "GENDER is 1 = Male and 2 = Female\n",
    "AGE is in years.\n",
    "WEIGHT is in Pounds.\n",
    "HEIGHT is in Inches.\n",
    "MORE_THAN_SIXFOOT is 1 if the height is more than six foot and 0 otherwise.\n",
    "LEG_LENGTH is in inches.\n",
    "WAIST_CIRCUMFERNCE is in inches.\n",
    "THIGH_CIRCUMFERENCE is in inches.\n",
    "BMI OVER 30 is 1 if BMI is over 30 and 0 otherwise.\n",
    "\n"
   ]
  },
  {
   "cell_type": "code",
   "execution_count": 89,
   "metadata": {},
   "outputs": [],
   "source": [
    "data_female = data[data['GENDER']==2]\n",
    "data_females_outliersdeleted = data_female[data_female['HEIGHT'] <90]    \n",
    "data_females_outliersdeleted = data_females_outliersdeleted[data_females_outliersdeleted['HEIGHT'] >40]    \n"
   ]
  },
  {
   "cell_type": "code",
   "execution_count": 90,
   "metadata": {},
   "outputs": [],
   "source": [
    "data_females_outliersdeleted = data_females_outliersdeleted[data_females_outliersdeleted['HEIGHT'] <70]    \n",
    "data_females_outliersdeleted = data_females_outliersdeleted[data_females_outliersdeleted['WEIGHT'] <350]\n"
   ]
  },
  {
   "cell_type": "code",
   "execution_count": 91,
   "metadata": {},
   "outputs": [],
   "source": [
    "data_females_outliersdeleted_drop_BMI = data_females_outliersdeleted.drop(['BMI OVER 30'], axis = 1)"
   ]
  },
  {
   "cell_type": "code",
   "execution_count": 92,
   "metadata": {},
   "outputs": [],
   "source": [
    "data_females_outliersdeleted_drop_BMI = data_females_outliersdeleted_drop_BMI[data_females_outliersdeleted_drop_BMI['LEG_LENGTH'] > 0]\n",
    "data_females_outliersdeleted_drop_BMI = data_females_outliersdeleted_drop_BMI[data_females_outliersdeleted_drop_BMI['WAIST_CIRCUMFERENCE'] > 0]\n",
    "data_females_outliersdeleted_drop_BMI = data_females_outliersdeleted_drop_BMI[data_females_outliersdeleted_drop_BMI['THIGH_CIRCUMFERENCE'] > 0]\n"
   ]
  },
  {
   "cell_type": "code",
   "execution_count": 93,
   "metadata": {},
   "outputs": [],
   "source": [
    "## Creating training dataset"
   ]
  },
  {
   "cell_type": "code",
   "execution_count": 94,
   "metadata": {},
   "outputs": [],
   "source": [
    "data_females_outliersdeleted_train_X = data_females_outliersdeleted_drop_BMI[:-10]\n",
    "data_females_outliersdeleted_train_X = data_females_outliersdeleted_train_X.drop(['WEIGHT'], axis = 1)\n",
    "data_females_outliersdeleted_train_Y = data_females_outliersdeleted_drop_BMI['WEIGHT'][:-10]\n"
   ]
  },
  {
   "cell_type": "code",
   "execution_count": 95,
   "metadata": {},
   "outputs": [],
   "source": [
    " ## Creating test dataset"
   ]
  },
  {
   "cell_type": "code",
   "execution_count": 96,
   "metadata": {},
   "outputs": [],
   "source": [
    "data_females_outliersdeleted_test_X = data_females_outliersdeleted_drop_BMI[-10:]\n",
    "data_females_outliersdeleted_test_X = data_females_outliersdeleted_test_X.drop(['WEIGHT'], axis = 1)\n",
    "data_females_outliersdeleted_test_Y = data_females_outliersdeleted_drop_BMI['WEIGHT'][-10:]\n"
   ]
  },
  {
   "cell_type": "code",
   "execution_count": 97,
   "metadata": {},
   "outputs": [],
   "source": [
    "## Create linear regression object"
   ]
  },
  {
   "cell_type": "code",
   "execution_count": 98,
   "metadata": {},
   "outputs": [],
   "source": [
    "regr = linear_model.LinearRegression()"
   ]
  },
  {
   "cell_type": "code",
   "execution_count": 99,
   "metadata": {},
   "outputs": [],
   "source": [
    "## Train the model using the training sets"
   ]
  },
  {
   "cell_type": "code",
   "execution_count": 100,
   "metadata": {},
   "outputs": [
    {
     "data": {
      "text/plain": [
       "LinearRegression(copy_X=True, fit_intercept=True, n_jobs=None,\n",
       "         normalize=False)"
      ]
     },
     "execution_count": 100,
     "metadata": {},
     "output_type": "execute_result"
    }
   ],
   "source": [
    "regr.fit(data_females_outliersdeleted_train_X, data_females_outliersdeleted_train_Y)\n"
   ]
  },
  {
   "cell_type": "code",
   "execution_count": 101,
   "metadata": {},
   "outputs": [],
   "source": [
    "## Make predictions using the testing set"
   ]
  },
  {
   "cell_type": "code",
   "execution_count": 102,
   "metadata": {},
   "outputs": [],
   "source": [
    "data_females_WEIGHT_predicted = regr.predict(data_females_outliersdeleted_test_X)\n"
   ]
  },
  {
   "cell_type": "code",
   "execution_count": 103,
   "metadata": {},
   "outputs": [],
   "source": [
    "## Making plots of actual weights and predicted weights"
   ]
  },
  {
   "cell_type": "code",
   "execution_count": 104,
   "metadata": {},
   "outputs": [
    {
     "data": {
      "image/png": "[encoded data removed]",
      "text/plain": [
       "<Figure size 432x288 with 1 Axes>"
      ]
     },
     "metadata": {
      "needs_background": "light"
     },
     "output_type": "display_data"
    }
   ],
   "source": [
    "plt.scatter(np.arange(len(data_females_WEIGHT_predicted)), data_females_outliersdeleted_test_Y, color = 'k')\n",
    "plt.scatter(np.arange(len(data_females_WEIGHT_predicted)), data_females_WEIGHT_predicted, color = 'b')\n",
    "plt.show()\n"
   ]
  },
  {
   "cell_type": "markdown",
   "metadata": {},
   "source": [
    "## How good is the Linear fit ?"
   ]
  },
  {
   "cell_type": "code",
   "execution_count": 105,
   "metadata": {},
   "outputs": [
    {
     "name": "stdout",
     "output_type": "stream",
     "text": [
      "Root Mean squared error: 12.81\n"
     ]
    }
   ],
   "source": [
    "print(\"Root Mean squared error: %.2f\"\n",
    "      % np.sqrt(mean_squared_error(data_females_outliersdeleted_test_Y, data_females_WEIGHT_predicted)))\n"
   ]
  },
  {
   "cell_type": "markdown",
   "metadata": {},
   "source": [
    "## Logistic Regression"
   ]
  },
  {
   "cell_type": "raw",
   "metadata": {},
   "source": [
    "Logistic Regression is used to predict the outcome variables which take values only 0 or 1.\n",
    "\n",
    "Avoid using Linear Regression when you are predicting outcome variables which take categorical values.\n",
    "\n",
    "For example in this exercise the variable: BMI OVER 30 is a categorical variable and to predict for individuals if their BMI will be over 30 or not we need to use Logistic Regression.\n"
   ]
  },
  {
   "cell_type": "code",
   "execution_count": 114,
   "metadata": {},
   "outputs": [],
   "source": [
    "##Can we determine for males whether BMI OVER 30 is 1 or 0 for individuals taking all the remaining variables as input variables ?\n"
   ]
  },
  {
   "cell_type": "code",
   "execution_count": 115,
   "metadata": {},
   "outputs": [],
   "source": [
    "from sklearn.model_selection import train_test_split\n",
    "from sklearn.linear_model import LogisticRegression\n"
   ]
  },
  {
   "cell_type": "code",
   "execution_count": 116,
   "metadata": {},
   "outputs": [],
   "source": [
    "data_male_deletedOutliers_Y = data_male_deletedOutliers['BMI OVER 30']\n",
    "data_male_deletedOutliers_X = data_male_deletedOutliers.drop(['BMI OVER 30'], axis = 1)\n",
    "\n"
   ]
  },
  {
   "cell_type": "code",
   "execution_count": 117,
   "metadata": {},
   "outputs": [],
   "source": [
    "## Creating training/testing dataset"
   ]
  },
  {
   "cell_type": "code",
   "execution_count": 118,
   "metadata": {},
   "outputs": [],
   "source": [
    "X_train, X_test, y_train, y_test = train_test_split(data_male_deletedOutliers_X, data_male_deletedOutliers_Y, test_size=0.3, random_state=42)\n"
   ]
  },
  {
   "cell_type": "code",
   "execution_count": 119,
   "metadata": {},
   "outputs": [],
   "source": [
    "## Create linear regression object"
   ]
  },
  {
   "cell_type": "code",
   "execution_count": 120,
   "metadata": {},
   "outputs": [],
   "source": [
    "logisticRegr = LogisticRegression()\n",
    "\n"
   ]
  },
  {
   "cell_type": "code",
   "execution_count": 121,
   "metadata": {},
   "outputs": [],
   "source": [
    "## Train the model using the training sets"
   ]
  },
  {
   "cell_type": "code",
   "execution_count": 122,
   "metadata": {},
   "outputs": [
    {
     "name": "stderr",
     "output_type": "stream",
     "text": [
      "C:\\Users\\Dell\\Anaconda3\\lib\\site-packages\\sklearn\\linear_model\\logistic.py:433: FutureWarning: Default solver will be changed to 'lbfgs' in 0.22. Specify a solver to silence this warning.\n",
      "  FutureWarning)\n"
     ]
    },
    {
     "data": {
      "text/plain": [
       "LogisticRegression(C=1.0, class_weight=None, dual=False, fit_intercept=True,\n",
       "          intercept_scaling=1, max_iter=100, multi_class='warn',\n",
       "          n_jobs=None, penalty='l2', random_state=None, solver='warn',\n",
       "          tol=0.0001, verbose=0, warm_start=False)"
      ]
     },
     "execution_count": 122,
     "metadata": {},
     "output_type": "execute_result"
    }
   ],
   "source": [
    "logisticRegr.fit(X_train, y_train)\n"
   ]
  },
  {
   "cell_type": "code",
   "execution_count": 123,
   "metadata": {},
   "outputs": [],
   "source": [
    "## Make predictions using the testing set"
   ]
  },
  {
   "cell_type": "code",
   "execution_count": 124,
   "metadata": {},
   "outputs": [],
   "source": [
    "BMI_OVER_30_PREDICTED_FOR_MALES = logisticRegr.predict(X_test)\n"
   ]
  },
  {
   "cell_type": "code",
   "execution_count": 125,
   "metadata": {},
   "outputs": [],
   "source": [
    "## Printing Actual BMI OVER 30 and predictied\n",
    "\n"
   ]
  },
  {
   "cell_type": "code",
   "execution_count": 126,
   "metadata": {},
   "outputs": [
    {
     "name": "stdout",
     "output_type": "stream",
     "text": [
      "Actual BMI OVER 30 or not:\n",
      "[0. 0. 0. 0. 0. 1. 1. 0. 0. 0. 0. 0.]\n",
      "Predicted BMI OVER 30 or not:\n",
      "[0. 0. 0. 0. 0. 1. 1. 0. 0. 0. 0. 0.]\n"
     ]
    }
   ],
   "source": [
    "print(\"Actual BMI OVER 30 or not:\")\n",
    "print(np.asarray(y_test))\n",
    "print(\"Predicted BMI OVER 30 or not:\")\n",
    "print(np.asarray(BMI_OVER_30_PREDICTED_FOR_MALES))\n"
   ]
  },
  {
   "cell_type": "code",
   "execution_count": 127,
   "metadata": {},
   "outputs": [
    {
     "data": {
      "text/plain": [
       "1.0"
      ]
     },
     "execution_count": 127,
     "metadata": {},
     "output_type": "execute_result"
    }
   ],
   "source": [
    "from sklearn import metrics\n",
    "metrics.roc_auc_score(y_test, BMI_OVER_30_PREDICTED_FOR_MALES)\n"
   ]
  },
  {
   "cell_type": "code",
   "execution_count": 128,
   "metadata": {},
   "outputs": [
    {
     "ename": "NameError",
     "evalue": "name 'sklearn' is not defined",
     "output_type": "error",
     "traceback": [
      "\u001b[1;31m---------------------------------------------------------------------------\u001b[0m",
      "\u001b[1;31mNameError\u001b[0m                                 Traceback (most recent call last)",
      "\u001b[1;32m<ipython-input-128-cdb41d46041d>\u001b[0m in \u001b[0;36m<module>\u001b[1;34m\u001b[0m\n\u001b[1;32m----> 1\u001b[1;33m \u001b[0msklearn\u001b[0m\u001b[1;33m.\u001b[0m\u001b[0mfeature_selection\u001b[0m\u001b[1;33m.\u001b[0m\u001b[0mf_regression\u001b[0m\u001b[1;33m(\u001b[0m\u001b[0mX_train\u001b[0m\u001b[1;33m,\u001b[0m\u001b[0my_train\u001b[0m\u001b[1;33m,\u001b[0m \u001b[0mcenter\u001b[0m\u001b[1;33m=\u001b[0m\u001b[1;32mTrue\u001b[0m\u001b[1;33m)\u001b[0m\u001b[1;33m\u001b[0m\u001b[1;33m\u001b[0m\u001b[0m\n\u001b[0m",
      "\u001b[1;31mNameError\u001b[0m: name 'sklearn' is not defined"
     ]
    }
   ],
   "source": [
    "sklearn.feature_selection.f_regression(X_train,y_train, center=True)\n"
   ]
  },
  {
   "cell_type": "code",
   "execution_count": 129,
   "metadata": {},
   "outputs": [
    {
     "name": "stderr",
     "output_type": "stream",
     "text": [
      "C:\\Users\\Dell\\Anaconda3\\lib\\site-packages\\sklearn\\feature_selection\\univariate_selection.py:299: RuntimeWarning: divide by zero encountered in true_divide\n",
      "  corr /= X_norms\n",
      "C:\\Users\\Dell\\Anaconda3\\lib\\site-packages\\sklearn\\feature_selection\\univariate_selection.py:304: RuntimeWarning: invalid value encountered in true_divide\n",
      "  F = corr ** 2 / (1 - corr ** 2) * degrees_of_freedom\n",
      "C:\\Users\\Dell\\Anaconda3\\lib\\site-packages\\scipy\\stats\\_distn_infrastructure.py:879: RuntimeWarning: invalid value encountered in greater\n",
      "  return (self.a < x) & (x < self.b)\n",
      "C:\\Users\\Dell\\Anaconda3\\lib\\site-packages\\scipy\\stats\\_distn_infrastructure.py:879: RuntimeWarning: invalid value encountered in less\n",
      "  return (self.a < x) & (x < self.b)\n",
      "C:\\Users\\Dell\\Anaconda3\\lib\\site-packages\\scipy\\stats\\_distn_infrastructure.py:1821: RuntimeWarning: invalid value encountered in less_equal\n",
      "  cond2 = cond0 & (x <= self.a)\n"
     ]
    },
    {
     "data": {
      "text/plain": [
       "(array([        nan,  0.36948782, 23.61075776,  0.24542982,  0.760181  ,\n",
       "         0.82844381, 21.24254264,  9.67777057]),\n",
       " array([           nan, 5.48992938e-01, 5.94314233e-05, 6.24817361e-01,\n",
       "        3.91910890e-01, 3.71773988e-01, 1.12248049e-04, 4.76115678e-03]))"
      ]
     },
     "execution_count": 129,
     "metadata": {},
     "output_type": "execute_result"
    }
   ],
   "source": [
    "import sklearn\n",
    "sklearn.feature_selection.f_regression(X_train,y_train, center=True)\n"
   ]
  },
  {
   "cell_type": "markdown",
   "metadata": {},
   "source": [
    "## LASSO Regression"
   ]
  },
  {
   "cell_type": "raw",
   "metadata": {},
   "source": [
    "In statistics and machine learning, lasso (least absolute shrinkage and selection operator) (also Lasso or LASSO) is a regression analysis method that performs both variable selection and regularization in order to enhance the prediction accuracy and interpretability of the statistical model it produces.\n",
    "LASSO Regression leverages Elastic Nets to produce accurate predictions.\n",
    "Unlike Logistic Regression, LASSO can be used on any form of outcome variable.\n"
   ]
  },
  {
   "cell_type": "markdown",
   "metadata": {},
   "source": [
    "##### Can we predict BMI OVER 30 for females using LASSO Regression models ?\n"
   ]
  },
  {
   "cell_type": "code",
   "execution_count": 130,
   "metadata": {},
   "outputs": [],
   "source": [
    "data_females_outliersdeleted = data_females_outliersdeleted[data_females_outliersdeleted['LEG_LENGTH'] > 0]\n",
    "data_females_outliersdeleted = data_females_outliersdeleted[data_females_outliersdeleted['WAIST_CIRCUMFERENCE'] > 0]\n",
    "data_females_outliersdeleted = data_females_outliersdeleted[data_females_outliersdeleted['THIGH_CIRCUMFERENCE'] > 0]\n",
    "\n",
    "\n",
    "from sklearn.model_selection import train_test_split\n",
    "from sklearn.linear_model import Lasso\n",
    "\n",
    "data_females_outliersdeleted_Y = data_females_outliersdeleted['BMI OVER 30']\n",
    "data_females_outliersdeleted_X = data_females_outliersdeleted.drop(['BMI OVER 30'], axis = 1)\n"
   ]
  },
  {
   "cell_type": "code",
   "execution_count": 131,
   "metadata": {},
   "outputs": [],
   "source": [
    "## Creating training/testing dataset"
   ]
  },
  {
   "cell_type": "code",
   "execution_count": 132,
   "metadata": {},
   "outputs": [],
   "source": [
    "X_train, X_test, y_train, y_test = train_test_split(data_females_outliersdeleted_X, data_females_outliersdeleted_Y, test_size=0.3, random_state=42)\n"
   ]
  },
  {
   "cell_type": "code",
   "execution_count": 133,
   "metadata": {},
   "outputs": [],
   "source": [
    "## Create linear regression object\n"
   ]
  },
  {
   "cell_type": "code",
   "execution_count": 134,
   "metadata": {},
   "outputs": [],
   "source": [
    "lassoRegr = Lasso(alpha=1e-03,normalize=True, max_iter=1e5)\n"
   ]
  },
  {
   "cell_type": "code",
   "execution_count": 135,
   "metadata": {},
   "outputs": [],
   "source": [
    "## Train the model using the training sets\n"
   ]
  },
  {
   "cell_type": "code",
   "execution_count": 136,
   "metadata": {},
   "outputs": [
    {
     "data": {
      "text/plain": [
       "Lasso(alpha=0.001, copy_X=True, fit_intercept=True, max_iter=100000.0,\n",
       "   normalize=True, positive=False, precompute=False, random_state=None,\n",
       "   selection='cyclic', tol=0.0001, warm_start=False)"
      ]
     },
     "execution_count": 136,
     "metadata": {},
     "output_type": "execute_result"
    }
   ],
   "source": [
    "lassoRegr.fit(X_train, y_train)"
   ]
  },
  {
   "cell_type": "code",
   "execution_count": 137,
   "metadata": {},
   "outputs": [],
   "source": [
    "## Make predictions using the testing set"
   ]
  },
  {
   "cell_type": "code",
   "execution_count": 138,
   "metadata": {},
   "outputs": [],
   "source": [
    "BMI_OVER_30_PREDICTED_FOR_FEMALES = lassoRegr.predict(X_test)\n",
    "\n"
   ]
  },
  {
   "cell_type": "code",
   "execution_count": 139,
   "metadata": {},
   "outputs": [],
   "source": [
    "## Printing Actual BMI OVER 30 and predicated\n"
   ]
  },
  {
   "cell_type": "code",
   "execution_count": 140,
   "metadata": {},
   "outputs": [
    {
     "name": "stdout",
     "output_type": "stream",
     "text": [
      "Actual BMI OVER 30 or not:\n",
      "[1. 1. 1. 1. 1. 0. 1. 1. 0. 0. 1. 1. 0. 0. 0.]\n",
      "Predicted BMI OVER 30 or not:\n",
      "[ 1.59541975  0.39531561  0.79007265  0.94333408  0.57161954 -0.07811438\n",
      "  0.62184509  1.19137311  0.17366556  0.00239921  0.50205638  0.652579\n",
      "  0.31926985  0.16114262  0.17738931]\n"
     ]
    }
   ],
   "source": [
    "\n",
    "print(\"Actual BMI OVER 30 or not:\")\n",
    "print(np.asarray(y_test))\n",
    "print(\"Predicted BMI OVER 30 or not:\")\n",
    "print(np.asarray(BMI_OVER_30_PREDICTED_FOR_FEMALES))\n"
   ]
  },
  {
   "cell_type": "markdown",
   "metadata": {},
   "source": [
    "### Refined LASSO With threshold"
   ]
  },
  {
   "cell_type": "code",
   "execution_count": 141,
   "metadata": {},
   "outputs": [],
   "source": [
    "data_females_outliersdeleted = data_females_outliersdeleted[data_females_outliersdeleted['LEG_LENGTH'] > 0]\n",
    "data_females_outliersdeleted = data_females_outliersdeleted[data_females_outliersdeleted['WAIST_CIRCUMFERENCE'] > 0]\n",
    "data_females_outliersdeleted = data_females_outliersdeleted[data_females_outliersdeleted['THIGH_CIRCUMFERENCE'] > 0]\n"
   ]
  },
  {
   "cell_type": "code",
   "execution_count": 142,
   "metadata": {},
   "outputs": [],
   "source": [
    "from sklearn.model_selection import train_test_split\n",
    "from sklearn.linear_model import Lasso\n",
    "\n",
    "data_females_outliersdeleted_Y = data_females_outliersdeleted['BMI OVER 30']\n",
    "data_females_outliersdeleted_X = data_females_outliersdeleted.drop(['BMI OVER 30'], axis = 1)\n"
   ]
  },
  {
   "cell_type": "code",
   "execution_count": 143,
   "metadata": {},
   "outputs": [],
   "source": [
    "## Creating training/testing dataset"
   ]
  },
  {
   "cell_type": "code",
   "execution_count": 144,
   "metadata": {},
   "outputs": [],
   "source": [
    "X_train, X_test, y_train, y_test = train_test_split(data_females_outliersdeleted_X, data_females_outliersdeleted_Y, test_size=0.3, random_state=42)\n",
    "\n"
   ]
  },
  {
   "cell_type": "code",
   "execution_count": 146,
   "metadata": {},
   "outputs": [],
   "source": [
    "## Create linear regression object\n"
   ]
  },
  {
   "cell_type": "code",
   "execution_count": 147,
   "metadata": {},
   "outputs": [],
   "source": [
    "lassoRegr = Lasso(alpha=1e-03,normalize=True, max_iter=1e5)"
   ]
  },
  {
   "cell_type": "code",
   "execution_count": 148,
   "metadata": {},
   "outputs": [],
   "source": [
    "## Train the model using the training sets\n"
   ]
  },
  {
   "cell_type": "code",
   "execution_count": 149,
   "metadata": {},
   "outputs": [
    {
     "data": {
      "text/plain": [
       "Lasso(alpha=0.001, copy_X=True, fit_intercept=True, max_iter=100000.0,\n",
       "   normalize=True, positive=False, precompute=False, random_state=None,\n",
       "   selection='cyclic', tol=0.0001, warm_start=False)"
      ]
     },
     "execution_count": 149,
     "metadata": {},
     "output_type": "execute_result"
    }
   ],
   "source": [
    "lassoRegr.fit(X_train, y_train)"
   ]
  },
  {
   "cell_type": "code",
   "execution_count": 150,
   "metadata": {},
   "outputs": [],
   "source": [
    "## Make predictions using the testing set\n"
   ]
  },
  {
   "cell_type": "code",
   "execution_count": 151,
   "metadata": {},
   "outputs": [],
   "source": [
    "BMI_OVER_30_PREDICTED_FOR_FEMALES = lassoRegr.predict(X_test)\n"
   ]
  },
  {
   "cell_type": "code",
   "execution_count": 152,
   "metadata": {},
   "outputs": [],
   "source": [
    "## Making the predictions with threshold"
   ]
  },
  {
   "cell_type": "code",
   "execution_count": 153,
   "metadata": {},
   "outputs": [],
   "source": [
    "BMI_OVER_30_PREDICTED_FOR_FEMALES_WITH_THRESHOLD = []\n",
    "count = 0\n",
    "while (count < len(BMI_OVER_30_PREDICTED_FOR_FEMALES)):\n",
    "    if (BMI_OVER_30_PREDICTED_FOR_FEMALES[count] >= 0.5):\n",
    "        BMI_OVER_30_PREDICTED_FOR_FEMALES_WITH_THRESHOLD.append(1)\n",
    "    else:\n",
    "        BMI_OVER_30_PREDICTED_FOR_FEMALES_WITH_THRESHOLD.append(0)\n",
    "    count = count + 1\n"
   ]
  },
  {
   "cell_type": "code",
   "execution_count": 154,
   "metadata": {},
   "outputs": [],
   "source": [
    "## Printing Actual BMI OVER 30 and predictied"
   ]
  },
  {
   "cell_type": "code",
   "execution_count": 155,
   "metadata": {},
   "outputs": [
    {
     "name": "stdout",
     "output_type": "stream",
     "text": [
      "Actual BMI OVER 30 or not:\n",
      "[1. 1. 1. 1. 1. 0. 1. 1. 0. 0. 1. 1. 0. 0. 0.]\n",
      "Predicted BMI OVER 30 or not after thresholding:\n",
      "[1 0 1 1 1 0 1 1 0 0 1 1 0 0 0]\n"
     ]
    }
   ],
   "source": [
    "print(\"Actual BMI OVER 30 or not:\")\n",
    "print(np.asarray(y_test))\n",
    "print(\"Predicted BMI OVER 30 or not after thresholding:\")\n",
    "print(np.asarray(BMI_OVER_30_PREDICTED_FOR_FEMALES_WITH_THRESHOLD))\n"
   ]
  },
  {
   "cell_type": "markdown",
   "metadata": {},
   "source": [
    "#### How accurate was the prediction ?\n"
   ]
  },
  {
   "cell_type": "code",
   "execution_count": 156,
   "metadata": {},
   "outputs": [
    {
     "data": {
      "text/plain": [
       "0.9444444444444444"
      ]
     },
     "execution_count": 156,
     "metadata": {},
     "output_type": "execute_result"
    }
   ],
   "source": [
    "from sklearn import metrics\n",
    "metrics.roc_auc_score(y_test, BMI_OVER_30_PREDICTED_FOR_FEMALES_WITH_THRESHOLD)\n"
   ]
  },
  {
   "cell_type": "code",
   "execution_count": 157,
   "metadata": {},
   "outputs": [
    {
     "name": "stdout",
     "output_type": "stream",
     "text": [
      "Root Mean squared error: 0.26\n"
     ]
    }
   ],
   "source": [
    "print(\"Root Mean squared error: %.2f\"\n",
    "      % np.sqrt(mean_squared_error(y_test, BMI_OVER_30_PREDICTED_FOR_FEMALES_WITH_THRESHOLD)))\n"
   ]
  },
  {
   "cell_type": "markdown",
   "metadata": {},
   "source": [
    "### What are the most important features for prediction BMI over 30 ?\n"
   ]
  },
  {
   "cell_type": "code",
   "execution_count": 158,
   "metadata": {},
   "outputs": [
    {
     "name": "stderr",
     "output_type": "stream",
     "text": [
      "C:\\Users\\Dell\\Anaconda3\\lib\\site-packages\\sklearn\\feature_selection\\univariate_selection.py:299: RuntimeWarning: divide by zero encountered in true_divide\n",
      "  corr /= X_norms\n",
      "C:\\Users\\Dell\\Anaconda3\\lib\\site-packages\\sklearn\\feature_selection\\univariate_selection.py:299: RuntimeWarning: invalid value encountered in true_divide\n",
      "  corr /= X_norms\n",
      "C:\\Users\\Dell\\Anaconda3\\lib\\site-packages\\sklearn\\feature_selection\\univariate_selection.py:304: RuntimeWarning: invalid value encountered in true_divide\n",
      "  F = corr ** 2 / (1 - corr ** 2) * degrees_of_freedom\n",
      "C:\\Users\\Dell\\Anaconda3\\lib\\site-packages\\scipy\\stats\\_distn_infrastructure.py:879: RuntimeWarning: invalid value encountered in greater\n",
      "  return (self.a < x) & (x < self.b)\n",
      "C:\\Users\\Dell\\Anaconda3\\lib\\site-packages\\scipy\\stats\\_distn_infrastructure.py:879: RuntimeWarning: invalid value encountered in less\n",
      "  return (self.a < x) & (x < self.b)\n",
      "C:\\Users\\Dell\\Anaconda3\\lib\\site-packages\\scipy\\stats\\_distn_infrastructure.py:1821: RuntimeWarning: invalid value encountered in less_equal\n",
      "  cond2 = cond0 & (x <= self.a)\n"
     ]
    },
    {
     "data": {
      "text/plain": [
       "(array([           nan, 1.80866375e+00, 8.47047342e+01, 1.24419847e+00,\n",
       "                   nan, 5.01701012e-02, 5.53963355e+01, 5.71980655e+01]),\n",
       " array([           nan, 1.87839370e-01, 1.24023114e-10, 2.72720636e-01,\n",
       "                   nan, 8.24148520e-01, 1.48959164e-08, 1.06200380e-08]))"
      ]
     },
     "execution_count": 158,
     "metadata": {},
     "output_type": "execute_result"
    }
   ],
   "source": [
    "import sklearn\n",
    "sklearn.feature_selection.f_regression(X_train,y_train, center=True)\n"
   ]
  },
  {
   "cell_type": "code",
   "execution_count": null,
   "metadata": {},
   "outputs": [],
   "source": []
  }
 ],
 "metadata": {
  "kernelspec": {
   "display_name": "Python 3",
   "language": "python",
   "name": "python3"
  },
  "language_info": {
   "codemirror_mode": {
    "name": "ipython",
    "version": 3
   },
   "file_extension": ".py",
   "mimetype": "text/x-python",
   "name": "python",
   "nbconvert_exporter": "python",
   "pygments_lexer": "ipython3",
   "version": "3.6.7"
  }
 },
 "nbformat": 4,
 "nbformat_minor": 2
}
